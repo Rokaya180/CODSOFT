{
 "cells": [
  {
   "cell_type": "code",
   "execution_count": 1,
   "id": "42791457-7010-4fee-8d4a-49d71d90ab8b",
   "metadata": {},
   "outputs": [],
   "source": [
    "import numpy as np\n",
    "import pandas as pd\n",
    "import seaborn as sns\n",
    "from matplotlib import pyplot as plt\n",
    "%matplotlib inline\n",
    "\n",
    "import warnings\n",
    "warnings.filterwarnings(\"ignore\")"
   ]
  },
  {
   "cell_type": "code",
   "execution_count": 3,
   "id": "fa825d73-6d41-4f48-8853-1ae9d462b987",
   "metadata": {},
   "outputs": [
    {
     "name": "stdout",
     "output_type": "stream",
     "text": [
      "Requirement already satisfied: opendatasets in c:\\users\\dell\\anaconda3\\lib\\site-packages (0.1.22)\n",
      "Requirement already satisfied: tqdm in c:\\users\\dell\\anaconda3\\lib\\site-packages (from opendatasets) (4.65.0)\n",
      "Requirement already satisfied: kaggle in c:\\users\\dell\\anaconda3\\lib\\site-packages (from opendatasets) (1.6.17)\n",
      "Requirement already satisfied: click in c:\\users\\dell\\anaconda3\\lib\\site-packages (from opendatasets) (8.1.8)\n",
      "Requirement already satisfied: colorama in c:\\users\\dell\\anaconda3\\lib\\site-packages (from click->opendatasets) (0.4.6)\n",
      "Requirement already satisfied: six>=1.10 in c:\\users\\dell\\anaconda3\\lib\\site-packages (from kaggle->opendatasets) (1.17.0)\n",
      "Requirement already satisfied: certifi>=2023.7.22 in c:\\users\\dell\\anaconda3\\lib\\site-packages (from kaggle->opendatasets) (2025.1.31)\n",
      "Requirement already satisfied: python-dateutil in c:\\users\\dell\\anaconda3\\lib\\site-packages (from kaggle->opendatasets) (2.9.0.post0)\n",
      "Requirement already satisfied: requests in c:\\users\\dell\\anaconda3\\lib\\site-packages (from kaggle->opendatasets) (2.32.3)\n",
      "Requirement already satisfied: python-slugify in c:\\users\\dell\\anaconda3\\lib\\site-packages (from kaggle->opendatasets) (5.0.2)\n",
      "Requirement already satisfied: urllib3 in c:\\users\\dell\\anaconda3\\lib\\site-packages (from kaggle->opendatasets) (2.3.0)\n",
      "Requirement already satisfied: bleach in c:\\users\\dell\\anaconda3\\lib\\site-packages (from kaggle->opendatasets) (4.1.0)\n",
      "Requirement already satisfied: packaging in c:\\users\\dell\\anaconda3\\lib\\site-packages (from bleach->kaggle->opendatasets) (24.2)\n",
      "Requirement already satisfied: webencodings in c:\\users\\dell\\anaconda3\\lib\\site-packages (from bleach->kaggle->opendatasets) (0.5.1)\n",
      "Requirement already satisfied: text-unidecode>=1.3 in c:\\users\\dell\\anaconda3\\lib\\site-packages (from python-slugify->kaggle->opendatasets) (1.3)\n",
      "Requirement already satisfied: charset-normalizer<4,>=2 in c:\\users\\dell\\anaconda3\\lib\\site-packages (from requests->kaggle->opendatasets) (3.4.1)\n",
      "Requirement already satisfied: idna<4,>=2.5 in c:\\users\\dell\\anaconda3\\lib\\site-packages (from requests->kaggle->opendatasets) (3.10)\n"
     ]
    }
   ],
   "source": [
    "!pip install opendatasets"
   ]
  },
  {
   "cell_type": "code",
   "execution_count": 5,
   "id": "ac18084c-b54f-44dd-982c-3cb573df4b48",
   "metadata": {},
   "outputs": [],
   "source": [
    "import opendatasets as od"
   ]
  },
  {
   "cell_type": "code",
   "execution_count": 6,
   "id": "70966d1d-93c4-4b94-8e04-9d7cb4761a88",
   "metadata": {},
   "outputs": [],
   "source": [
    "dataset = 'https://www.kaggle.com/datasets/kartik2112/fraud-detection'"
   ]
  },
  {
   "cell_type": "code",
   "execution_count": 7,
   "id": "d3386c9c-a9a9-420e-8e72-ddeebedff0f1",
   "metadata": {},
   "outputs": [
    {
     "name": "stdout",
     "output_type": "stream",
     "text": [
      "Skipping, found downloaded files in \".\\fraud-detection\" (use force=True to force download)\n"
     ]
    }
   ],
   "source": [
    "od.download(dataset)"
   ]
  },
  {
   "cell_type": "code",
   "execution_count": 8,
   "id": "dc51b213-b944-4283-8165-f2c8306376fb",
   "metadata": {},
   "outputs": [],
   "source": [
    "import os"
   ]
  },
  {
   "cell_type": "code",
   "execution_count": 9,
   "id": "d6b9d508-f055-4717-9f38-ce8d132ba396",
   "metadata": {},
   "outputs": [
    {
     "name": "stdout",
     "output_type": "stream",
     "text": [
      "['fraudTest.csv', 'fraudTrain.csv']\n"
     ]
    }
   ],
   "source": [
    "df = r'./fraud-detection'  \n",
    "print(os.listdir(df))"
   ]
  },
  {
   "cell_type": "code",
   "execution_count": 10,
   "id": "40712579-5996-4ffe-a403-9ef2ec203ead",
   "metadata": {},
   "outputs": [],
   "source": [
    "train_file = './fraud-detection/fraudTrain.csv'\n",
    "test_file = './fraud-detection/fraudTest.csv'\n",
    "\n",
    "df_train = pd.read_csv(train_file)\n",
    "df_test = pd.read_csv(test_file)"
   ]
  },
  {
   "cell_type": "code",
   "execution_count": 11,
   "id": "27a6fa37-7ccf-4da0-bf77-d21ee0e46431",
   "metadata": {},
   "outputs": [
    {
     "name": "stdout",
     "output_type": "stream",
     "text": [
      "   Unnamed: 0 trans_date_trans_time            cc_num  \\\n",
      "0           0   2019-01-01 00:00:18  2703186189652095   \n",
      "1           1   2019-01-01 00:00:44      630423337322   \n",
      "2           2   2019-01-01 00:00:51    38859492057661   \n",
      "3           3   2019-01-01 00:01:16  3534093764340240   \n",
      "4           4   2019-01-01 00:03:06   375534208663984   \n",
      "\n",
      "                             merchant       category     amt      first  \\\n",
      "0          fraud_Rippin, Kub and Mann       misc_net    4.97   Jennifer   \n",
      "1     fraud_Heller, Gutmann and Zieme    grocery_pos  107.23  Stephanie   \n",
      "2                fraud_Lind-Buckridge  entertainment  220.11     Edward   \n",
      "3  fraud_Kutch, Hermiston and Farrell  gas_transport   45.00     Jeremy   \n",
      "4                 fraud_Keeling-Crist       misc_pos   41.96      Tyler   \n",
      "\n",
      "      last gender                        street  ...      lat      long  \\\n",
      "0    Banks      F                561 Perry Cove  ...  36.0788  -81.1781   \n",
      "1     Gill      F  43039 Riley Greens Suite 393  ...  48.8878 -118.2105   \n",
      "2  Sanchez      M      594 White Dale Suite 530  ...  42.1808 -112.2620   \n",
      "3    White      M   9443 Cynthia Court Apt. 038  ...  46.2306 -112.1138   \n",
      "4   Garcia      M              408 Bradley Rest  ...  38.4207  -79.4629   \n",
      "\n",
      "   city_pop                                job         dob  \\\n",
      "0      3495          Psychologist, counselling  1988-03-09   \n",
      "1       149  Special educational needs teacher  1978-06-21   \n",
      "2      4154        Nature conservation officer  1962-01-19   \n",
      "3      1939                    Patent attorney  1967-01-12   \n",
      "4        99     Dance movement psychotherapist  1986-03-28   \n",
      "\n",
      "                          trans_num   unix_time  merch_lat  merch_long  \\\n",
      "0  0b242abb623afc578575680df30655b9  1325376018  36.011293  -82.048315   \n",
      "1  1f76529f8574734946361c461b024d99  1325376044  49.159047 -118.186462   \n",
      "2  a1a22d70485983eac12b5b88dad1cf95  1325376051  43.150704 -112.154481   \n",
      "3  6b849c168bdad6f867558c3793159a81  1325376076  47.034331 -112.561071   \n",
      "4  a41d7549acf90789359a9aa5346dcb46  1325376186  38.674999  -78.632459   \n",
      "\n",
      "   is_fraud  \n",
      "0         0  \n",
      "1         0  \n",
      "2         0  \n",
      "3         0  \n",
      "4         0  \n",
      "\n",
      "[5 rows x 23 columns]\n"
     ]
    }
   ],
   "source": [
    "print(df_train.head())"
   ]
  },
  {
   "cell_type": "code",
   "execution_count": 12,
   "id": "164c636a-e5a3-4dec-9347-4e1d83d57ba0",
   "metadata": {},
   "outputs": [
    {
     "name": "stdout",
     "output_type": "stream",
     "text": [
      "<class 'pandas.core.frame.DataFrame'>\n",
      "RangeIndex: 1296675 entries, 0 to 1296674\n",
      "Data columns (total 23 columns):\n",
      " #   Column                 Non-Null Count    Dtype  \n",
      "---  ------                 --------------    -----  \n",
      " 0   Unnamed: 0             1296675 non-null  int64  \n",
      " 1   trans_date_trans_time  1296675 non-null  object \n",
      " 2   cc_num                 1296675 non-null  int64  \n",
      " 3   merchant               1296675 non-null  object \n",
      " 4   category               1296675 non-null  object \n",
      " 5   amt                    1296675 non-null  float64\n",
      " 6   first                  1296675 non-null  object \n",
      " 7   last                   1296675 non-null  object \n",
      " 8   gender                 1296675 non-null  object \n",
      " 9   street                 1296675 non-null  object \n",
      " 10  city                   1296675 non-null  object \n",
      " 11  state                  1296675 non-null  object \n",
      " 12  zip                    1296675 non-null  int64  \n",
      " 13  lat                    1296675 non-null  float64\n",
      " 14  long                   1296675 non-null  float64\n",
      " 15  city_pop               1296675 non-null  int64  \n",
      " 16  job                    1296675 non-null  object \n",
      " 17  dob                    1296675 non-null  object \n",
      " 18  trans_num              1296675 non-null  object \n",
      " 19  unix_time              1296675 non-null  int64  \n",
      " 20  merch_lat              1296675 non-null  float64\n",
      " 21  merch_long             1296675 non-null  float64\n",
      " 22  is_fraud               1296675 non-null  int64  \n",
      "dtypes: float64(5), int64(6), object(12)\n",
      "memory usage: 227.5+ MB\n",
      "None\n"
     ]
    }
   ],
   "source": [
    "print(df_train.info())"
   ]
  },
  {
   "cell_type": "code",
   "execution_count": 13,
   "id": "c7276571-adaa-4326-8eb4-7578a8f83e26",
   "metadata": {},
   "outputs": [
    {
     "name": "stdout",
     "output_type": "stream",
     "text": [
      "   Unnamed: 0 trans_date_trans_time            cc_num  \\\n",
      "0           0   2020-06-21 12:14:25  2291163933867244   \n",
      "1           1   2020-06-21 12:14:33  3573030041201292   \n",
      "2           2   2020-06-21 12:14:53  3598215285024754   \n",
      "3           3   2020-06-21 12:15:15  3591919803438423   \n",
      "4           4   2020-06-21 12:15:17  3526826139003047   \n",
      "\n",
      "                               merchant        category    amt   first  \\\n",
      "0                 fraud_Kirlin and Sons   personal_care   2.86    Jeff   \n",
      "1                  fraud_Sporer-Keebler   personal_care  29.84  Joanne   \n",
      "2  fraud_Swaniawski, Nitzsche and Welch  health_fitness  41.28  Ashley   \n",
      "3                     fraud_Haley Group        misc_pos  60.05   Brian   \n",
      "4                 fraud_Johnston-Casper          travel   3.19  Nathan   \n",
      "\n",
      "       last gender                       street  ...      lat      long  \\\n",
      "0   Elliott      M            351 Darlene Green  ...  33.9659  -80.9355   \n",
      "1  Williams      F             3638 Marsh Union  ...  40.3207 -110.4360   \n",
      "2     Lopez      F         9333 Valentine Point  ...  40.6729  -73.5365   \n",
      "3  Williams      M  32941 Krystal Mill Apt. 552  ...  28.5697  -80.8191   \n",
      "4    Massey      M     5783 Evan Roads Apt. 465  ...  44.2529  -85.0170   \n",
      "\n",
      "   city_pop                     job         dob  \\\n",
      "0    333497     Mechanical engineer  1968-03-19   \n",
      "1       302  Sales professional, IT  1990-01-17   \n",
      "2     34496       Librarian, public  1970-10-21   \n",
      "3     54767            Set designer  1987-07-25   \n",
      "4      1126      Furniture designer  1955-07-06   \n",
      "\n",
      "                          trans_num   unix_time  merch_lat  merch_long  \\\n",
      "0  2da90c7d74bd46a0caf3777415b3ebd3  1371816865  33.986391  -81.200714   \n",
      "1  324cc204407e99f51b0d6ca0055005e7  1371816873  39.450498 -109.960431   \n",
      "2  c81755dbbbea9d5c77f094348a7579be  1371816893  40.495810  -74.196111   \n",
      "3  2159175b9efe66dc301f149d3d5abf8c  1371816915  28.812398  -80.883061   \n",
      "4  57ff021bd3f328f8738bb535c302a31b  1371816917  44.959148  -85.884734   \n",
      "\n",
      "   is_fraud  \n",
      "0         0  \n",
      "1         0  \n",
      "2         0  \n",
      "3         0  \n",
      "4         0  \n",
      "\n",
      "[5 rows x 23 columns]\n"
     ]
    }
   ],
   "source": [
    "print(df_test.head())"
   ]
  },
  {
   "cell_type": "code",
   "execution_count": 14,
   "id": "6361fe1d-596a-4838-a66a-90dcdfd9c7a8",
   "metadata": {},
   "outputs": [
    {
     "name": "stdout",
     "output_type": "stream",
     "text": [
      "<class 'pandas.core.frame.DataFrame'>\n",
      "RangeIndex: 555719 entries, 0 to 555718\n",
      "Data columns (total 23 columns):\n",
      " #   Column                 Non-Null Count   Dtype  \n",
      "---  ------                 --------------   -----  \n",
      " 0   Unnamed: 0             555719 non-null  int64  \n",
      " 1   trans_date_trans_time  555719 non-null  object \n",
      " 2   cc_num                 555719 non-null  int64  \n",
      " 3   merchant               555719 non-null  object \n",
      " 4   category               555719 non-null  object \n",
      " 5   amt                    555719 non-null  float64\n",
      " 6   first                  555719 non-null  object \n",
      " 7   last                   555719 non-null  object \n",
      " 8   gender                 555719 non-null  object \n",
      " 9   street                 555719 non-null  object \n",
      " 10  city                   555719 non-null  object \n",
      " 11  state                  555719 non-null  object \n",
      " 12  zip                    555719 non-null  int64  \n",
      " 13  lat                    555719 non-null  float64\n",
      " 14  long                   555719 non-null  float64\n",
      " 15  city_pop               555719 non-null  int64  \n",
      " 16  job                    555719 non-null  object \n",
      " 17  dob                    555719 non-null  object \n",
      " 18  trans_num              555719 non-null  object \n",
      " 19  unix_time              555719 non-null  int64  \n",
      " 20  merch_lat              555719 non-null  float64\n",
      " 21  merch_long             555719 non-null  float64\n",
      " 22  is_fraud               555719 non-null  int64  \n",
      "dtypes: float64(5), int64(6), object(12)\n",
      "memory usage: 97.5+ MB\n",
      "None\n"
     ]
    }
   ],
   "source": [
    "print(df_test.info())"
   ]
  },
  {
   "cell_type": "code",
   "execution_count": 15,
   "id": "635b0249-cea1-42be-bd6a-c99249ac16a3",
   "metadata": {},
   "outputs": [
    {
     "name": "stdout",
     "output_type": "stream",
     "text": [
      "Train Data Shape: (1296675, 23)\n",
      "Test Data Shape: (555719, 23)\n"
     ]
    }
   ],
   "source": [
    "print(\"Train Data Shape:\", df_train.shape)\n",
    "print(\"Test Data Shape:\", df_test.shape)"
   ]
  },
  {
   "cell_type": "code",
   "execution_count": 16,
   "id": "91e5958c-5cf0-4d95-a0f3-ee2fc4e2d119",
   "metadata": {},
   "outputs": [
    {
     "name": "stdout",
     "output_type": "stream",
     "text": [
      "Train Data Description:\n",
      "         Unnamed: 0        cc_num           amt           zip           lat  \\\n",
      "count  1.296675e+06  1.296675e+06  1.296675e+06  1.296675e+06  1.296675e+06   \n",
      "mean   6.483370e+05  4.171920e+17  7.035104e+01  4.880067e+04  3.853762e+01   \n",
      "std    3.743180e+05  1.308806e+18  1.603160e+02  2.689322e+04  5.075808e+00   \n",
      "min    0.000000e+00  6.041621e+10  1.000000e+00  1.257000e+03  2.002710e+01   \n",
      "25%    3.241685e+05  1.800429e+14  9.650000e+00  2.623700e+04  3.462050e+01   \n",
      "50%    6.483370e+05  3.521417e+15  4.752000e+01  4.817400e+04  3.935430e+01   \n",
      "75%    9.725055e+05  4.642255e+15  8.314000e+01  7.204200e+04  4.194040e+01   \n",
      "max    1.296674e+06  4.992346e+18  2.894890e+04  9.978300e+04  6.669330e+01   \n",
      "\n",
      "               long      city_pop     unix_time     merch_lat    merch_long  \\\n",
      "count  1.296675e+06  1.296675e+06  1.296675e+06  1.296675e+06  1.296675e+06   \n",
      "mean  -9.022634e+01  8.882444e+04  1.349244e+09  3.853734e+01 -9.022646e+01   \n",
      "std    1.375908e+01  3.019564e+05  1.284128e+07  5.109788e+00  1.377109e+01   \n",
      "min   -1.656723e+02  2.300000e+01  1.325376e+09  1.902779e+01 -1.666712e+02   \n",
      "25%   -9.679800e+01  7.430000e+02  1.338751e+09  3.473357e+01 -9.689728e+01   \n",
      "50%   -8.747690e+01  2.456000e+03  1.349250e+09  3.936568e+01 -8.743839e+01   \n",
      "75%   -8.015800e+01  2.032800e+04  1.359385e+09  4.195716e+01 -8.023680e+01   \n",
      "max   -6.795030e+01  2.906700e+06  1.371817e+09  6.751027e+01 -6.695090e+01   \n",
      "\n",
      "           is_fraud  \n",
      "count  1.296675e+06  \n",
      "mean   5.788652e-03  \n",
      "std    7.586269e-02  \n",
      "min    0.000000e+00  \n",
      "25%    0.000000e+00  \n",
      "50%    0.000000e+00  \n",
      "75%    0.000000e+00  \n",
      "max    1.000000e+00  \n",
      "\n",
      "Test Data Description:\n",
      "          Unnamed: 0        cc_num            amt            zip  \\\n",
      "count  555719.000000  5.557190e+05  555719.000000  555719.000000   \n",
      "mean   277859.000000  4.178387e+17      69.392810   48842.628015   \n",
      "std    160422.401459  1.309837e+18     156.745941   26855.283328   \n",
      "min         0.000000  6.041621e+10       1.000000    1257.000000   \n",
      "25%    138929.500000  1.800429e+14       9.630000   26292.000000   \n",
      "50%    277859.000000  3.521417e+15      47.290000   48174.000000   \n",
      "75%    416788.500000  4.635331e+15      83.010000   72011.000000   \n",
      "max    555718.000000  4.992346e+18   22768.110000   99921.000000   \n",
      "\n",
      "                 lat           long      city_pop     unix_time  \\\n",
      "count  555719.000000  555719.000000  5.557190e+05  5.557190e+05   \n",
      "mean       38.543253     -90.231325  8.822189e+04  1.380679e+09   \n",
      "std         5.061336      13.721780  3.003909e+05  5.201104e+06   \n",
      "min        20.027100    -165.672300  2.300000e+01  1.371817e+09   \n",
      "25%        34.668900     -96.798000  7.410000e+02  1.376029e+09   \n",
      "50%        39.371600     -87.476900  2.408000e+03  1.380762e+09   \n",
      "75%        41.894800     -80.175200  1.968500e+04  1.385867e+09   \n",
      "max        65.689900     -67.950300  2.906700e+06  1.388534e+09   \n",
      "\n",
      "           merch_lat     merch_long       is_fraud  \n",
      "count  555719.000000  555719.000000  555719.000000  \n",
      "mean       38.542798     -90.231380       0.003860  \n",
      "std         5.095829      13.733071       0.062008  \n",
      "min        19.027422    -166.671575       0.000000  \n",
      "25%        34.755302     -96.905129       0.000000  \n",
      "50%        39.376593     -87.445204       0.000000  \n",
      "75%        41.954163     -80.264637       0.000000  \n",
      "max        66.679297     -66.952026       1.000000  \n"
     ]
    }
   ],
   "source": [
    "print(\"Train Data Description:\")\n",
    "print(df_train.describe())\n",
    "\n",
    "print(\"\\nTest Data Description:\")\n",
    "print(df_test.describe())"
   ]
  },
  {
   "cell_type": "code",
   "execution_count": 17,
   "id": "08c875f6-43a3-4e5c-b2c8-30c06fe32f4e",
   "metadata": {},
   "outputs": [
    {
     "data": {
      "text/plain": [
       "Index(['Unnamed: 0', 'trans_date_trans_time', 'cc_num', 'merchant', 'category',\n",
       "       'amt', 'first', 'last', 'gender', 'street', 'city', 'state', 'zip',\n",
       "       'lat', 'long', 'city_pop', 'job', 'dob', 'trans_num', 'unix_time',\n",
       "       'merch_lat', 'merch_long', 'is_fraud'],\n",
       "      dtype='object')"
      ]
     },
     "execution_count": 17,
     "metadata": {},
     "output_type": "execute_result"
    }
   ],
   "source": [
    "df_train.columns"
   ]
  },
  {
   "cell_type": "code",
   "execution_count": 18,
   "id": "4f0c3d7b-e5f2-4a5c-912b-7d7f585b0826",
   "metadata": {},
   "outputs": [
    {
     "data": {
      "text/plain": [
       "Index(['Unnamed: 0', 'trans_date_trans_time', 'cc_num', 'merchant', 'category',\n",
       "       'amt', 'first', 'last', 'gender', 'street', 'city', 'state', 'zip',\n",
       "       'lat', 'long', 'city_pop', 'job', 'dob', 'trans_num', 'unix_time',\n",
       "       'merch_lat', 'merch_long', 'is_fraud'],\n",
       "      dtype='object')"
      ]
     },
     "execution_count": 18,
     "metadata": {},
     "output_type": "execute_result"
    }
   ],
   "source": [
    "df_test.columns"
   ]
  },
  {
   "cell_type": "code",
   "execution_count": 19,
   "id": "dd828c51-46c9-459a-9ab5-714a51ee25e3",
   "metadata": {},
   "outputs": [],
   "source": [
    "missing_train = df_train.isnull().sum()\n",
    "missing_test = df_test.isnull().sum()"
   ]
  },
  {
   "cell_type": "code",
   "execution_count": 20,
   "id": "2e12253b-0aed-452f-b518-d7507d8301d2",
   "metadata": {},
   "outputs": [
    {
     "name": "stdout",
     "output_type": "stream",
     "text": [
      "Missing Values in Train Data:\n",
      "Series([], dtype: int64)\n",
      "\n",
      "Missing Values in Test Data:\n",
      "Series([], dtype: int64)\n"
     ]
    }
   ],
   "source": [
    "print(\"Missing Values in Train Data:\")\n",
    "print(missing_train[missing_train > 0])\n",
    "\n",
    "print(\"\\nMissing Values in Test Data:\")\n",
    "print(missing_test[missing_test > 0])"
   ]
  },
  {
   "cell_type": "code",
   "execution_count": 21,
   "id": "3f181d59-79ae-4a5b-a509-fcb5f41cf361",
   "metadata": {},
   "outputs": [
    {
     "name": "stdout",
     "output_type": "stream",
     "text": [
      "Requirement already satisfied: ace_tools in c:\\users\\dell\\anaconda3\\lib\\site-packages (0.0)\n",
      "Note: you may need to restart the kernel to use updated packages.\n"
     ]
    }
   ],
   "source": [
    "pip install ace_tools"
   ]
  },
  {
   "cell_type": "markdown",
   "id": "9a419df1-4d5f-44cf-a83a-75960c9d8758",
   "metadata": {},
   "source": [
    "# Feature Engineering"
   ]
  },
  {
   "cell_type": "code",
   "execution_count": 22,
   "id": "3ecf5cb2-810a-47f6-b9a1-e67ca11a4a3b",
   "metadata": {},
   "outputs": [
    {
     "name": "stdout",
     "output_type": "stream",
     "text": [
      "✅ Feature Engineering Completed!\n",
      "Updated Dataset Columns: ['Unnamed: 0', 'trans_date_trans_time', 'cc_num', 'merchant', 'category', 'amt', 'first', 'last', 'gender', 'street', 'city', 'state', 'zip', 'lat', 'long', 'city_pop', 'job', 'dob', 'trans_num', 'unix_time', 'merch_lat', 'merch_long', 'is_fraud', 'transaction_hour', 'user_merchant_distance', 'num_unique_locations', 'odd_hour_transaction']\n",
      "   Unnamed: 0 trans_date_trans_time            cc_num  \\\n",
      "0           0   2019-01-01 00:00:18  2703186189652095   \n",
      "1           1   2019-01-01 00:00:44      630423337322   \n",
      "2           2   2019-01-01 00:00:51    38859492057661   \n",
      "3           3   2019-01-01 00:01:16  3534093764340240   \n",
      "4           4   2019-01-01 00:03:06   375534208663984   \n",
      "\n",
      "                             merchant       category     amt      first  \\\n",
      "0          fraud_Rippin, Kub and Mann       misc_net    4.97   Jennifer   \n",
      "1     fraud_Heller, Gutmann and Zieme    grocery_pos  107.23  Stephanie   \n",
      "2                fraud_Lind-Buckridge  entertainment  220.11     Edward   \n",
      "3  fraud_Kutch, Hermiston and Farrell  gas_transport   45.00     Jeremy   \n",
      "4                 fraud_Keeling-Crist       misc_pos   41.96      Tyler   \n",
      "\n",
      "      last gender                        street  ...         dob  \\\n",
      "0    Banks      F                561 Perry Cove  ...  1988-03-09   \n",
      "1     Gill      F  43039 Riley Greens Suite 393  ...  1978-06-21   \n",
      "2  Sanchez      M      594 White Dale Suite 530  ...  1962-01-19   \n",
      "3    White      M   9443 Cynthia Court Apt. 038  ...  1967-01-12   \n",
      "4   Garcia      M              408 Bradley Rest  ...  1986-03-28   \n",
      "\n",
      "                          trans_num   unix_time  merch_lat  merch_long  \\\n",
      "0  0b242abb623afc578575680df30655b9  1325376018  36.011293  -82.048315   \n",
      "1  1f76529f8574734946361c461b024d99  1325376044  49.159047 -118.186462   \n",
      "2  a1a22d70485983eac12b5b88dad1cf95  1325376051  43.150704 -112.154481   \n",
      "3  6b849c168bdad6f867558c3793159a81  1325376076  47.034331 -112.561071   \n",
      "4  a41d7549acf90789359a9aa5346dcb46  1325376186  38.674999  -78.632459   \n",
      "\n",
      "   is_fraud transaction_hour user_merchant_distance num_unique_locations  \\\n",
      "0         0                0              78.597568                    1   \n",
      "1         0                0              30.212176                    1   \n",
      "2         0                0             108.206083                    1   \n",
      "3         0                0              95.673231                    1   \n",
      "4         0                0              77.556744                    1   \n",
      "\n",
      "   odd_hour_transaction  \n",
      "0                     1  \n",
      "1                     1  \n",
      "2                     1  \n",
      "3                     1  \n",
      "4                     1  \n",
      "\n",
      "[5 rows x 27 columns]\n"
     ]
    }
   ],
   "source": [
    "# 1 Extract Hour of Transaction from unix_time\n",
    "df_train[\"transaction_hour\"] = pd.to_datetime(df_train[\"unix_time\"], unit=\"s\").dt.hour\n",
    "\n",
    "# 2 Compute Distance between User Location and Merchant Location\n",
    "def haversine(lat1, lon1, lat2, lon2):\n",
    "    R = 6371  # Earth radius in kilometers\n",
    "    lat1, lon1, lat2, lon2 = map(np.radians, [lat1, lon1, lat2, lon2])\n",
    "    dlat = lat2 - lat1\n",
    "    dlon = lon2 - lon1\n",
    "\n",
    "    a = np.sin(dlat / 2)**2 + np.cos(lat1) * np.cos(lat2) * np.sin(dlon / 2)**2\n",
    "    c = 2 * np.arcsin(np.sqrt(a))\n",
    "    return R * c\n",
    "\n",
    "df_train[\"user_merchant_distance\"] = haversine(df_train[\"lat\"], df_train[\"long\"], df_train[\"merch_lat\"], df_train[\"merch_long\"])\n",
    "\n",
    "# 3 Identify Unique Transaction Locations per User\n",
    "user_location_counts_train = df_train.groupby(\"cc_num\")[\"zip\"].nunique().reset_index()\n",
    "user_location_counts_train.rename(columns={\"zip\": \"num_unique_locations\"}, inplace=True)\n",
    "df_train = df_train.merge(user_location_counts_train, on=\"cc_num\", how=\"left\")\n",
    "\n",
    "# 4 Create Anomaly Detection Features (Transactions at Odd Hours)\n",
    "df_train[\"odd_hour_transaction\"] = df_train[\"transaction_hour\"].apply(lambda x: 1 if x < 6 or x > 22 else 0)\n",
    "\n",
    "print(\"✅ Feature Engineering Completed!\")\n",
    "print(\"Updated Dataset Columns:\", df_train.columns.tolist())\n",
    "print(df_train.head())"
   ]
  },
  {
   "cell_type": "markdown",
   "id": "5a3b9b3d-077f-43dd-8645-a693e3628135",
   "metadata": {},
   "source": [
    " # Model Training (Before Feature Selection)"
   ]
  },
  {
   "cell_type": "code",
   "execution_count": 23,
   "id": "0b0fabac-424d-43ee-9435-d61a69d4084f",
   "metadata": {},
   "outputs": [
    {
     "name": "stdout",
     "output_type": "stream",
     "text": [
      "🔹 Logistic Regression Classification Report:\n",
      "              precision    recall  f1-score        support\n",
      "0              0.998650  0.889274  0.940793  257834.000000\n",
      "1              0.040047  0.793471  0.076246    1501.000000\n",
      "accuracy       0.888719  0.888719  0.888719       0.888719\n",
      "macro avg      0.519348  0.841372  0.508520  259335.000000\n",
      "weighted avg   0.993102  0.888719  0.935790  259335.000000\n",
      "\n",
      "🔹 Random Forest Classification Report:\n",
      "              precision    recall  f1-score        support\n",
      "0              0.996583  0.998914  0.997747  257834.000000\n",
      "1              0.688196  0.411726  0.515215    1501.000000\n",
      "accuracy       0.995515  0.995515  0.995515       0.995515\n",
      "macro avg      0.842390  0.705320  0.756481  259335.000000\n",
      "weighted avg   0.994798  0.995515  0.994954  259335.000000\n"
     ]
    }
   ],
   "source": [
    "from sklearn.model_selection import train_test_split\n",
    "from sklearn.ensemble import RandomForestClassifier\n",
    "from sklearn.linear_model import LogisticRegression\n",
    "from sklearn.utils.class_weight import compute_class_weight\n",
    "from sklearn.metrics import classification_report\n",
    "\n",
    "features = [\n",
    "    \"amt\", \"transaction_hour\", \"user_merchant_distance\", \"num_unique_locations\", \"odd_hour_transaction\"\n",
    "]\n",
    "\n",
    "X = df_train[features]\n",
    "y = df_train[\"is_fraud\"]\n",
    "\n",
    "X_train, X_val, y_train, y_val = train_test_split(X, y, test_size=0.2, stratify=y, random_state=42)\n",
    "\n",
    "classes = np.array([0, 1])  \n",
    "class_weights = compute_class_weight(class_weight=\"balanced\", classes=classes, y=y_train)\n",
    "class_weight_dict = {classes[i]: class_weights[i] for i in range(len(classes))}\n",
    "\n",
    "log_reg = LogisticRegression(class_weight=\"balanced\", solver=\"liblinear\")\n",
    "log_reg.fit(X_train, y_train)\n",
    "\n",
    "rf = RandomForestClassifier(class_weight=class_weight_dict, random_state=42)\n",
    "rf.fit(X_train, y_train)\n",
    "\n",
    "log_reg_preds = log_reg.predict(X_val)\n",
    "rf_preds = rf.predict(X_val)\n",
    "\n",
    "log_reg_report = classification_report(y_val, log_reg_preds, output_dict=True)\n",
    "rf_report = classification_report(y_val, rf_preds, output_dict=True)\n",
    "\n",
    "log_reg_df = pd.DataFrame(log_reg_report).transpose()\n",
    "rf_df = pd.DataFrame(rf_report).transpose()\n",
    "\n",
    "print(\"🔹 Logistic Regression Classification Report:\")\n",
    "print(log_reg_df)\n",
    "\n",
    "print(\"\\n🔹 Random Forest Classification Report:\")\n",
    "print(rf_df)"
   ]
  },
  {
   "cell_type": "markdown",
   "id": "d0666423-7331-45cc-9d8c-6ff79c026c42",
   "metadata": {},
   "source": [
    "- Logistic Regression:\n",
    "Finds most fraud cases (high recall) but too many false positives (bad precision).\n",
    "This is common when using class weighting in Logistic Regression.\n",
    "- Random Forest:\n",
    "Much better fraud precision (68%) and a higher F1-score (51%).\n",
    "Still missing some fraud cases (recall only 41%)."
   ]
  },
  {
   "cell_type": "markdown",
   "id": "afb90105-ad71-4c7d-ad41-e421170f94ac",
   "metadata": {},
   "source": [
    "# Feature Selection"
   ]
  },
  {
   "cell_type": "code",
   "execution_count": 25,
   "id": "fa45487d-c5bc-48b0-8d2d-64ac23b4faa1",
   "metadata": {},
   "outputs": [
    {
     "data": {
      "image/png": "[encoded data removed]",
      "text/plain": [
       "<Figure size 1000x500 with 1 Axes>"
      ]
     },
     "metadata": {},
     "output_type": "display_data"
    },
    {
     "name": "stdout",
     "output_type": "stream",
     "text": [
      "🔹 Feature Importance Ranking:\n",
      "amt: 0.5900\n",
      "user_merchant_distance: 0.3024\n",
      "transaction_hour: 0.0971\n",
      "odd_hour_transaction: 0.0104\n",
      "num_unique_locations: 0.0000\n"
     ]
    }
   ],
   "source": [
    "from sklearn.ensemble import RandomForestClassifier\n",
    "plt.style.use(\"dark_background\")\n",
    "\n",
    "rf = RandomForestClassifier(random_state=42)\n",
    "rf.fit(X_train, y_train)\n",
    "\n",
    "feature_importance = rf.feature_importances_\n",
    "feature_names = X_train.columns\n",
    "\n",
    "sorted_idx = np.argsort(feature_importance)[::-1]\n",
    "\n",
    "plt.figure(figsize=(10, 5))\n",
    "plt.bar(range(len(feature_names)), feature_importance[sorted_idx], align=\"center\")\n",
    "plt.xticks(range(len(feature_names)), np.array(feature_names)[sorted_idx], rotation=90)\n",
    "plt.title(\"Feature Importance in Random Forest\")\n",
    "plt.show()\n",
    "\n",
    "print(\"🔹 Feature Importance Ranking:\")\n",
    "for i in sorted_idx:\n",
    "    print(f\"{feature_names[i]}: {feature_importance[i]:.4f}\")"
   ]
  },
  {
   "cell_type": "code",
   "execution_count": 65,
   "id": "b6a4909e-eab4-419a-a14c-a7c77a896180",
   "metadata": {},
   "outputs": [
    {
     "name": "stdout",
     "output_type": "stream",
     "text": [
      "🔹 Random Forest with Selected Features:\n",
      "              precision    recall  f1-score        support\n",
      "0              0.996583  0.998953  0.997767  257834.000000\n",
      "1              0.695946  0.411726  0.517371    1501.000000\n",
      "accuracy       0.995554  0.995554  0.995554       0.995554\n",
      "macro avg      0.846265  0.705339  0.757569  259335.000000\n",
      "weighted avg   0.994843  0.995554  0.994986  259335.000000\n"
     ]
    }
   ],
   "source": [
    "# Keep only important features\n",
    "selected_features = [\"amt\", \"user_merchant_distance\", \"transaction_hour\"]\n",
    "\n",
    "# Update X_train and X_val\n",
    "X_train_selected = X_train[selected_features]\n",
    "X_val_selected = X_val[selected_features]\n",
    "\n",
    "# Retrain Random Forest\n",
    "rf_selected = RandomForestClassifier(class_weight=class_weight_dict, random_state=42)\n",
    "rf_selected.fit(X_train_selected, y_train)\n",
    "\n",
    "# Evaluate Model\n",
    "rf_preds_selected = rf_selected.predict(X_val_selected)\n",
    "\n",
    "# Generate Classification Report\n",
    "from sklearn.metrics import classification_report\n",
    "rf_report_selected = classification_report(y_val, rf_preds_selected, output_dict=True)\n",
    "\n",
    "# Convert report to DataFrame\n",
    "import pandas as pd\n",
    "rf_df_selected = pd.DataFrame(rf_report_selected).transpose()\n",
    "\n",
    "# Print results\n",
    "print(\"🔹 Random Forest with Selected Features:\")\n",
    "print(rf_df_selected)"
   ]
  },
  {
   "cell_type": "code",
   "execution_count": 27,
   "id": "b6b27ea8-c685-40a1-823d-4212cb1e7fba",
   "metadata": {},
   "outputs": [],
   "source": [
    "# Define the selected features based on feature importance\n",
    "selected_features = [\"amt\", \"user_merchant_distance\", \"transaction_hour\"]\n",
    "\n",
    "# Update X_train_selected and X_val_selected\n",
    "X_train_selected = X_train[selected_features]\n",
    "X_val_selected = X_val[selected_features]"
   ]
  },
  {
   "cell_type": "markdown",
   "id": "a80253a6-5be1-423d-8345-3246c44ee27c",
   "metadata": {},
   "source": [
    " # Hyperparameter Tuning"
   ]
  },
  {
   "cell_type": "code",
   "execution_count": 28,
   "id": "f8eb0b76-a6b8-4e62-9ce5-78ffa2302064",
   "metadata": {},
   "outputs": [
    {
     "name": "stdout",
     "output_type": "stream",
     "text": [
      "Fitting 3 folds for each of 10 candidates, totalling 30 fits\n",
      "🔹 Best Parameters Found: {'n_estimators': 200, 'min_samples_split': 2, 'min_samples_leaf': 1, 'max_depth': None}\n",
      "🔹 Tuned Random Forest Model Performance:\n",
      "              precision    recall  f1-score        support\n",
      "0              0.996622  0.998945  0.997782  257834.000000\n",
      "1              0.697778  0.418388  0.523115    1501.000000\n",
      "accuracy       0.995585  0.995585  0.995585       0.995585\n",
      "macro avg      0.847200  0.708666  0.760449  259335.000000\n",
      "weighted avg   0.994892  0.995585  0.995035  259335.000000\n"
     ]
    }
   ],
   "source": [
    "from sklearn.model_selection import RandomizedSearchCV\n",
    "from sklearn.ensemble import RandomForestClassifier\n",
    "from sklearn.metrics import classification_report\n",
    "\n",
    "param_dist = {\n",
    "    'n_estimators': np.arange(100, 250, 50),  \n",
    "    'max_depth': [10, 20, None],  \n",
    "    'min_samples_split': [2, 5],  \n",
    "    'min_samples_leaf': [1, 2]  \n",
    "}\n",
    "\n",
    "random_search = RandomizedSearchCV(RandomForestClassifier(class_weight=\"balanced\", random_state=42),\n",
    "                                   param_distributions=param_dist, \n",
    "                                   n_iter=10,  \n",
    "                                   cv=3,  \n",
    "                                   n_jobs=-1, \n",
    "                                   verbose=2)\n",
    "\n",
    "\n",
    "X_sample, _, y_sample, _ = train_test_split(X_train_selected, y_train, train_size=0.5, stratify=y_train, random_state=42)\n",
    "random_search.fit(X_sample, y_sample)\n",
    "\n",
    "print(\"🔹 Best Parameters Found:\", random_search.best_params_)\n",
    "\n",
    "best_rf = RandomForestClassifier(**random_search.best_params_, class_weight=\"balanced\", random_state=42)\n",
    "best_rf.fit(X_train_selected, y_train)\n",
    "\n",
    "rf_preds_tuned = best_rf.predict(X_val_selected)\n",
    "rf_report_tuned = classification_report(y_val, rf_preds_tuned, output_dict=True)\n",
    "\n",
    "rf_df_tuned = pd.DataFrame(rf_report_tuned).transpose()\n",
    "print(\"🔹 Tuned Random Forest Model Performance:\")\n",
    "print(rf_df_tuned)"
   ]
  },
  {
   "cell_type": "code",
   "execution_count": 30,
   "id": "eceab39c-5bf6-499a-b249-a730ad800d37",
   "metadata": {},
   "outputs": [
    {
     "name": "stdout",
     "output_type": "stream",
     "text": [
      "🔹 Final Tuned Random Forest Model Performance:\n",
      "              precision    recall  f1-score        support\n",
      "0              0.996622  0.998945  0.997782  257834.000000\n",
      "1              0.697778  0.418388  0.523115    1501.000000\n",
      "accuracy       0.995585  0.995585  0.995585       0.995585\n",
      "macro avg      0.847200  0.708666  0.760449  259335.000000\n",
      "weighted avg   0.994892  0.995585  0.995035  259335.000000\n"
     ]
    }
   ],
   "source": [
    "best_rf = RandomForestClassifier(n_estimators=200, \n",
    "                                 min_samples_split=2, \n",
    "                                 min_samples_leaf=1, \n",
    "                                 max_depth=None, \n",
    "                                 class_weight=\"balanced\", \n",
    "                                 random_state=42)\n",
    "\n",
    "best_rf.fit(X_train_selected, y_train)\n",
    "\n",
    "rf_preds_tuned = best_rf.predict(X_val_selected)\n",
    "\n",
    "from sklearn.metrics import classification_report\n",
    "rf_report_tuned = classification_report(y_val, rf_preds_tuned, output_dict=True)\n",
    "\n",
    "import pandas as pd\n",
    "rf_df_tuned = pd.DataFrame(rf_report_tuned).transpose()\n",
    "\n",
    "print(\"🔹 Final Tuned Random Forest Model Performance:\")\n",
    "print(rf_df_tuned)"
   ]
  },
  {
   "cell_type": "code",
   "execution_count": 31,
   "id": "77f13b2c-bbd9-432b-a917-241a4170db36",
   "metadata": {},
   "outputs": [
    {
     "data": {
      "image/png": "[encoded data removed]",
      "text/plain": [
       "<Figure size 1000x500 with 1 Axes>"
      ]
     },
     "metadata": {},
     "output_type": "display_data"
    }
   ],
   "source": [
    "plt.figure(figsize=(10, 5))\n",
    "sns.boxplot(x=df_train[\"is_fraud\"], y=df_train[\"amt\"])\n",
    "plt.title(\"Transaction Amounts for Fraud vs Non-Fraud Cases\")\n",
    "plt.yscale(\"log\")  \n",
    "plt.show()"
   ]
  },
  {
   "cell_type": "markdown",
   "id": "b81b7224-75c0-4a46-9e1c-5c00f0083326",
   "metadata": {},
   "source": [
    "Fraud cases are more concentrated around higher amounts, while non-fraud cases have a wider range and many small transactions.\n",
    "Removing extreme non-fraud outliers might help the model focus on normal spending patterns.\n",
    "- A feature based on transaction amount could be useful, such as:\n",
    "Flagging unusually high transactions as potential fraud.\n",
    "Scaling the transaction amount differently for fraud and non-fraud cases.\n"
   ]
  },
  {
   "cell_type": "code",
   "execution_count": 32,
   "id": "239ce25c-cb0a-4189-9f6c-1c198f7357b4",
   "metadata": {},
   "outputs": [
    {
     "name": "stdout",
     "output_type": "stream",
     "text": [
      "🔹 Capped Transaction Amount at: 486.3032000000007\n"
     ]
    }
   ],
   "source": [
    "cap_value = df_train[df_train[\"is_fraud\"] == 0][\"amt\"].quantile(0.99)\n",
    "df_train[\"amt\"] = np.where((df_train[\"is_fraud\"] == 0) & (df_train[\"amt\"] > cap_value), cap_value, df_train[\"amt\"])\n",
    "\n",
    "print(\"🔹 Capped Transaction Amount at:\", cap_value)"
   ]
  },
  {
   "cell_type": "code",
   "execution_count": 33,
   "id": "dd6576a8-42c3-4a8f-b79c-a4ed933f4a8f",
   "metadata": {},
   "outputs": [
    {
     "name": "stdout",
     "output_type": "stream",
     "text": [
      "🔹 High transaction feature added based on threshold: 196.31\n"
     ]
    }
   ],
   "source": [
    "high_amt_threshold = df_train[\"amt\"].quantile(0.95)\n",
    "df_train[\"high_transaction\"] = df_train[\"amt\"].apply(lambda x: 1 if x > high_amt_threshold else 0)\n",
    "\n",
    "print(\"🔹 High transaction feature added based on threshold:\", high_amt_threshold)"
   ]
  },
  {
   "cell_type": "code",
   "execution_count": 36,
   "id": "068777c1-a369-41da-8ec3-459f113e1f17",
   "metadata": {},
   "outputs": [
    {
     "name": "stdout",
     "output_type": "stream",
     "text": [
      "🔹 Updated Model Performance with Transaction Adjustments:\n",
      "              precision    recall  f1-score     support\n",
      "0              0.997449  0.999538  0.998493  257834.000\n",
      "1              0.876171  0.560959  0.683997    1501.000\n",
      "accuracy       0.997000  0.997000  0.997000       0.997\n",
      "macro avg      0.936810  0.780249  0.841245  259335.000\n",
      "weighted avg   0.996747  0.997000  0.996673  259335.000\n"
     ]
    }
   ],
   "source": [
    "selected_features = [\"amt\", \"user_merchant_distance\", \"transaction_hour\", \"high_transaction\"]\n",
    "\n",
    "X_train_selected = df_train[selected_features].iloc[X_train.index]\n",
    "y_train = df_train[\"is_fraud\"].iloc[X_train.index]\n",
    "\n",
    "X_val_selected = df_train[selected_features].iloc[X_val.index]\n",
    "y_val = df_train[\"is_fraud\"].iloc[X_val.index]  # Ensure labels match\n",
    "\n",
    "best_rf.fit(X_train_selected, y_train)\n",
    "\n",
    "rf_preds_updated = best_rf.predict(X_val_selected)\n",
    "rf_report_updated = classification_report(y_val, rf_preds_updated, output_dict=True)\n",
    "\n",
    "rf_df_updated = pd.DataFrame(rf_report_updated).transpose()\n",
    "print(\"🔹 Updated Model Performance with Transaction Adjustments:\")\n",
    "print(rf_df_updated)"
   ]
  },
  {
   "cell_type": "code",
   "execution_count": 37,
   "id": "caa1258e-7022-4796-890f-f80dab1a70e1",
   "metadata": {},
   "outputs": [
    {
     "name": "stdout",
     "output_type": "stream",
     "text": [
      "🔹 XGBoost Model Performance:\n",
      "              precision    recall  f1-score       support\n",
      "0              0.999280  0.952136  0.975138  257834.00000\n",
      "1              0.096890  0.882079  0.174601    1501.00000\n",
      "accuracy       0.951730  0.951730  0.951730       0.95173\n",
      "macro avg      0.548085  0.917107  0.574870  259335.00000\n",
      "weighted avg   0.994057  0.951730  0.970505  259335.00000\n"
     ]
    }
   ],
   "source": [
    "from xgboost import XGBClassifier\n",
    "from sklearn.metrics import classification_report\n",
    "\n",
    "scale_pos_weight = (y_train.value_counts()[0] / y_train.value_counts()[1])\n",
    "\n",
    "xgb_model = XGBClassifier(scale_pos_weight=scale_pos_weight, \n",
    "                          use_label_encoder=False, \n",
    "                          eval_metric=\"logloss\", \n",
    "                          random_state=42)\n",
    "\n",
    "xgb_model.fit(X_train_selected, y_train)\n",
    "\n",
    "xgb_preds = xgb_model.predict(X_val_selected)\n",
    "xgb_report = classification_report(y_val, xgb_preds, output_dict=True)\n",
    "\n",
    "import pandas as pd\n",
    "xgb_df = pd.DataFrame(xgb_report).transpose()\n",
    "\n",
    "print(\"🔹 XGBoost Model Performance:\")\n",
    "print(xgb_df)"
   ]
  },
  {
   "cell_type": "code",
   "execution_count": 38,
   "id": "ef837c99-fdf0-4bfc-a96e-d922a85675dd",
   "metadata": {},
   "outputs": [
    {
     "name": "stdout",
     "output_type": "stream",
     "text": [
      "🔹 XGBoost Model Performance (Threshold = 0.7):\n",
      "              precision    recall  f1-score        support\n",
      "0              0.999012  0.968550  0.983545  257834.000000\n",
      "1              0.133931  0.835443  0.230854    1501.000000\n",
      "accuracy       0.967779  0.967779  0.967779       0.967779\n",
      "macro avg      0.566472  0.901996  0.607200  259335.000000\n",
      "weighted avg   0.994005  0.967779  0.979188  259335.000000\n"
     ]
    }
   ],
   "source": [
    "xgb_probs = xgb_model.predict_proba(X_val_selected)[:, 1]  \n",
    "\n",
    "xgb_preds_adjusted = [1 if prob > 0.7 else 0 for prob in xgb_probs]\n",
    "\n",
    "from sklearn.metrics import classification_report\n",
    "xgb_report_adjusted = classification_report(y_val, xgb_preds_adjusted, output_dict=True)\n",
    "\n",
    "import pandas as pd\n",
    "xgb_df_adjusted = pd.DataFrame(xgb_report_adjusted).transpose()\n",
    "\n",
    "print(\"🔹 XGBoost Model Performance (Threshold = 0.7):\")\n",
    "print(xgb_df_adjusted)"
   ]
  },
  {
   "cell_type": "code",
   "execution_count": 41,
   "id": "43c6671f-b384-4afb-afc2-d46a3605d5b5",
   "metadata": {},
   "outputs": [],
   "source": [
    "X_train, X_val, y_train, y_val = train_test_split(X, y, test_size=0.2, stratify=y, random_state=42)"
   ]
  },
  {
   "cell_type": "code",
   "execution_count": 43,
   "id": "0c567e47-9960-43b4-9bd6-37c666bef105",
   "metadata": {},
   "outputs": [
    {
     "name": "stdout",
     "output_type": "stream",
     "text": [
      "   Unnamed: 0 trans_date_trans_time            cc_num  \\\n",
      "0           0   2020-06-21 12:14:25  2291163933867244   \n",
      "1           1   2020-06-21 12:14:33  3573030041201292   \n",
      "2           2   2020-06-21 12:14:53  3598215285024754   \n",
      "3           3   2020-06-21 12:15:15  3591919803438423   \n",
      "4           4   2020-06-21 12:15:17  3526826139003047   \n",
      "\n",
      "                               merchant        category    amt   first  \\\n",
      "0                 fraud_Kirlin and Sons   personal_care   2.86    Jeff   \n",
      "1                  fraud_Sporer-Keebler   personal_care  29.84  Joanne   \n",
      "2  fraud_Swaniawski, Nitzsche and Welch  health_fitness  41.28  Ashley   \n",
      "3                     fraud_Haley Group        misc_pos  60.05   Brian   \n",
      "4                 fraud_Johnston-Casper          travel   3.19  Nathan   \n",
      "\n",
      "       last gender                       street  ...      lat      long  \\\n",
      "0   Elliott      M            351 Darlene Green  ...  33.9659  -80.9355   \n",
      "1  Williams      F             3638 Marsh Union  ...  40.3207 -110.4360   \n",
      "2     Lopez      F         9333 Valentine Point  ...  40.6729  -73.5365   \n",
      "3  Williams      M  32941 Krystal Mill Apt. 552  ...  28.5697  -80.8191   \n",
      "4    Massey      M     5783 Evan Roads Apt. 465  ...  44.2529  -85.0170   \n",
      "\n",
      "   city_pop                     job         dob  \\\n",
      "0    333497     Mechanical engineer  1968-03-19   \n",
      "1       302  Sales professional, IT  1990-01-17   \n",
      "2     34496       Librarian, public  1970-10-21   \n",
      "3     54767            Set designer  1987-07-25   \n",
      "4      1126      Furniture designer  1955-07-06   \n",
      "\n",
      "                          trans_num   unix_time  merch_lat  merch_long  \\\n",
      "0  2da90c7d74bd46a0caf3777415b3ebd3  1371816865  33.986391  -81.200714   \n",
      "1  324cc204407e99f51b0d6ca0055005e7  1371816873  39.450498 -109.960431   \n",
      "2  c81755dbbbea9d5c77f094348a7579be  1371816893  40.495810  -74.196111   \n",
      "3  2159175b9efe66dc301f149d3d5abf8c  1371816915  28.812398  -80.883061   \n",
      "4  57ff021bd3f328f8738bb535c302a31b  1371816917  44.959148  -85.884734   \n",
      "\n",
      "   is_fraud  \n",
      "0         0  \n",
      "1         0  \n",
      "2         0  \n",
      "3         0  \n",
      "4         0  \n",
      "\n",
      "[5 rows x 23 columns]\n"
     ]
    }
   ],
   "source": [
    "test_file = \"./fraud-detection/fraudTest.csv\"  \n",
    "df_test = pd.read_csv(test_file)\n",
    "print(df_test.head())  # Verify the file is loaded correctly"
   ]
  },
  {
   "cell_type": "code",
   "execution_count": 48,
   "id": "53e0487f-dfe0-4efd-8349-c64ef1cba72d",
   "metadata": {},
   "outputs": [
    {
     "name": "stdout",
     "output_type": "stream",
     "text": [
      "🔹 Test Data After Feature Engineering:\n",
      "     amt  user_merchant_distance  transaction_hour  high_transaction\n",
      "0   2.86               24.561462                12                 0\n",
      "1  29.84              104.925092                12                 0\n",
      "2  41.28               59.080078                12                 0\n",
      "3  60.05               27.698567                12                 0\n",
      "4   3.19              104.335106                12                 0\n"
     ]
    }
   ],
   "source": [
    "test_file = \"./fraud-detection/fraudTest.csv\"  \n",
    "df_test = pd.read_csv(test_file)\n",
    "\n",
    "df_test[\"transaction_hour\"] = pd.to_datetime(df_test[\"unix_time\"], unit=\"s\").dt.hour\n",
    "\n",
    "def haversine(row):\n",
    "    \"\"\"Calculate the great-circle distance between two points.\"\"\"\n",
    "    R = 6371  \n",
    "    lat1, lon1, lat2, lon2 = map(np.radians, [row[\"lat\"], row[\"long\"], row[\"merch_lat\"], row[\"merch_long\"]])\n",
    "    dlat = lat2 - lat1\n",
    "    dlon = lon2 - lon1\n",
    "    a = np.sin(dlat / 2)**2 + np.cos(lat1) * np.cos(lat2) * np.sin(dlon / 2)**2\n",
    "    return R * (2 * np.arcsin(np.sqrt(a)))\n",
    "\n",
    "df_test[\"user_merchant_distance\"] = df_test.apply(haversine, axis=1)\n",
    "\n",
    "high_amt_threshold = df_test[\"amt\"].quantile(0.95)\n",
    "df_test[\"high_transaction\"] = df_test[\"amt\"].apply(lambda x: 1 if x > high_amt_threshold else 0)\n",
    "\n",
    "selected_features = [\"amt\", \"user_merchant_distance\", \"transaction_hour\", \"high_transaction\"]\n",
    "X_test = df_test[selected_features]\n",
    "y_test = df_test[\"is_fraud\"]\n",
    "\n",
    "print(\"🔹 Test Data After Feature Engineering:\")\n",
    "print(X_test.head())"
   ]
  },
  {
   "cell_type": "code",
   "execution_count": 51,
   "id": "9c74631f-f652-4ad2-9240-30c4eac547dd",
   "metadata": {},
   "outputs": [
    {
     "name": "stdout",
     "output_type": "stream",
     "text": [
      "✅ Model Retrained and Saved Successfully!\n"
     ]
    }
   ],
   "source": [
    "joblib.dump(best_rf, \"fraud_detection_model.pkl\")\n",
    "\n",
    "print(\"✅ Model Retrained and Saved Successfully!\")"
   ]
  },
  {
   "cell_type": "code",
   "execution_count": 52,
   "id": "e85eb9c8-b2ef-44cc-8585-69a2ea9bf137",
   "metadata": {},
   "outputs": [
    {
     "name": "stdout",
     "output_type": "stream",
     "text": [
      "🔹 Final Random Forest Test Performance:\n",
      "              precision    recall  f1-score   support\n",
      "\n",
      "           0       1.00      1.00      1.00    553574\n",
      "           1       0.60      0.41      0.48      2145\n",
      "\n",
      "    accuracy                           1.00    555719\n",
      "   macro avg       0.80      0.70      0.74    555719\n",
      "weighted avg       1.00      1.00      1.00    555719\n",
      "\n"
     ]
    }
   ],
   "source": [
    "best_rf = joblib.load(\"fraud_detection_model.pkl\")\n",
    "\n",
    "test_preds = best_rf.predict(X_test)\n",
    "\n",
    "rf_test_report = classification_report(y_test, test_preds)\n",
    "\n",
    "print(\"🔹 Final Random Forest Test Performance:\")\n",
    "print(rf_test_report)"
   ]
  },
  {
   "cell_type": "code",
   "execution_count": 53,
   "id": "729c0f4a-90be-491c-908e-f2ab76e960bd",
   "metadata": {},
   "outputs": [
    {
     "name": "stdout",
     "output_type": "stream",
     "text": [
      "🔹 Random Forest Test Performance (Threshold = 0.3):\n",
      "              precision    recall  f1-score   support\n",
      "\n",
      "           0       1.00      1.00      1.00    553574\n",
      "           1       0.45      0.51      0.48      2145\n",
      "\n",
      "    accuracy                           1.00    555719\n",
      "   macro avg       0.72      0.75      0.74    555719\n",
      "weighted avg       1.00      1.00      1.00    555719\n",
      "\n"
     ]
    }
   ],
   "source": [
    "test_probs = best_rf.predict_proba(X_test)[:, 1]  \n",
    "test_preds_adjusted = [1 if prob > 0.3 else 0 for prob in test_probs]  \n",
    "\n",
    "rf_test_report_adjusted = classification_report(y_test, test_preds_adjusted)\n",
    "print(\"🔹 Random Forest Test Performance (Threshold = 0.3):\")\n",
    "print(rf_test_report_adjusted)"
   ]
  },
  {
   "cell_type": "code",
   "execution_count": 55,
   "id": "56f6845f-b2ac-4ac2-a55e-99bf9054688c",
   "metadata": {},
   "outputs": [
    {
     "name": "stdout",
     "output_type": "stream",
     "text": [
      "🔹 Threshold Tuning Results:\n",
      "      Precision    Recall  F1-Score\n",
      "0.25   0.407499  0.537063  0.463395\n",
      "0.30   0.448020  0.506294  0.475378\n",
      "0.35   0.494045  0.483450  0.488690\n",
      "0.40   0.528686  0.459674  0.491771\n",
      "0.45   0.565164  0.432634  0.490098\n"
     ]
    }
   ],
   "source": [
    "from sklearn.metrics import classification_report\n",
    "\n",
    "test_probs = best_rf.predict_proba(X_test)[:, 1]\n",
    "\n",
    "thresholds = np.arange(0.25, 0.50, 0.05)  \n",
    "results = {}\n",
    "\n",
    "for threshold in thresholds:\n",
    "    test_preds_adjusted = [1 if prob > threshold else 0 for prob in test_probs]\n",
    "    report = classification_report(y_test, test_preds_adjusted, output_dict=True)\n",
    "    \n",
    "    fraud_metrics = report[\"1\"]\n",
    "    results[threshold] = {\n",
    "        \"Precision\": fraud_metrics[\"precision\"],\n",
    "        \"Recall\": fraud_metrics[\"recall\"],\n",
    "        \"F1-Score\": fraud_metrics[\"f1-score\"]\n",
    "    }\n",
    "\n",
    "threshold_results_df = pd.DataFrame(results).transpose()\n",
    "\n",
    "print(\"🔹 Threshold Tuning Results:\")\n",
    "print(threshold_results_df)"
   ]
  },
  {
   "cell_type": "code",
   "execution_count": 56,
   "id": "6a691308-e07f-41fc-8f61-4cbbced417aa",
   "metadata": {},
   "outputs": [
    {
     "name": "stdout",
     "output_type": "stream",
     "text": [
      "🔹 Final Random Forest Performance (Threshold = 0.35):\n",
      "              precision    recall  f1-score   support\n",
      "\n",
      "           0       1.00      1.00      1.00    553574\n",
      "           1       0.49      0.48      0.49      2145\n",
      "\n",
      "    accuracy                           1.00    555719\n",
      "   macro avg       0.75      0.74      0.74    555719\n",
      "weighted avg       1.00      1.00      1.00    555719\n",
      "\n"
     ]
    }
   ],
   "source": [
    "final_threshold = 0.35\n",
    "test_preds_final = [1 if prob > final_threshold else 0 for prob in test_probs]\n",
    "\n",
    "final_test_report = classification_report(y_test, test_preds_final)\n",
    "\n",
    "print(\"🔹 Final Random Forest Performance (Threshold = 0.35):\")\n",
    "print(final_test_report)"
   ]
  },
  {
   "cell_type": "code",
   "execution_count": 57,
   "id": "983fe9f7-904e-4314-b09e-5bea1e1c1d3c",
   "metadata": {},
   "outputs": [
    {
     "name": "stdout",
     "output_type": "stream",
     "text": [
      "🔹 Hybrid Model (RF + XGBoost) Performance:\n",
      "              precision    recall  f1-score   support\n",
      "\n",
      "           0       1.00      0.95      0.97    553574\n",
      "           1       0.07      0.87      0.12      2145\n",
      "\n",
      "    accuracy                           0.95    555719\n",
      "   macro avg       0.53      0.91      0.55    555719\n",
      "weighted avg       1.00      0.95      0.97    555719\n",
      "\n"
     ]
    }
   ],
   "source": [
    "xgb_preds = xgb_model.predict(X_test)  \n",
    "hybrid_preds = [1 if (rf == 1 or xgb == 1) else 0 for rf, xgb in zip(test_preds_final, xgb_preds)]\n",
    "\n",
    "hybrid_report = classification_report(y_test, hybrid_preds)\n",
    "print(\"🔹 Hybrid Model (RF + XGBoost) Performance:\")\n",
    "print(hybrid_report)"
   ]
  },
  {
   "cell_type": "code",
   "execution_count": 59,
   "id": "449bd06b-8f8b-47ef-a18e-3199479524b0",
   "metadata": {},
   "outputs": [
    {
     "name": "stdout",
     "output_type": "stream",
     "text": [
      "🔹 Hybrid Model Threshold Tuning Results:\n",
      "      Precision    Recall  F1-Score\n",
      "0.25   0.041905  0.927273  0.080185\n",
      "0.30   0.046351  0.918881  0.088251\n",
      "0.35   0.051111  0.905828  0.096763\n",
      "0.40   0.055429  0.895571  0.104397\n",
      "0.45   0.060195  0.884848  0.112721\n"
     ]
    }
   ],
   "source": [
    "rf_probs = best_rf.predict_proba(X_test)[:, 1]  \n",
    "xgb_probs = xgb_model.predict_proba(X_test)[:, 1]  \n",
    "\n",
    "\n",
    "thresholds = np.arange(0.25, 0.50, 0.05)  \n",
    "results = {}\n",
    "\n",
    "for threshold in thresholds:\n",
    "    \n",
    "    hybrid_preds_adjusted = [1 if (rf > threshold or xgb > threshold) else 0 for rf, xgb in zip(rf_probs, xgb_probs)]\n",
    "    \n",
    "    \n",
    "    report = classification_report(y_test, hybrid_preds_adjusted, output_dict=True)\n",
    "    \n",
    "    \n",
    "    fraud_metrics = report[\"1\"]\n",
    "    results[threshold] = {\n",
    "        \"Precision\": fraud_metrics[\"precision\"],\n",
    "        \"Recall\": fraud_metrics[\"recall\"],\n",
    "        \"F1-Score\": fraud_metrics[\"f1-score\"]\n",
    "    }\n",
    "\n",
    "threshold_results_df = pd.DataFrame(results).transpose()\n",
    "\n",
    "print(\"🔹 Hybrid Model Threshold Tuning Results:\")\n",
    "print(threshold_results_df)"
   ]
  },
  {
   "cell_type": "markdown",
   "id": "0586748d-9e8e-488f-abf2-5e2e1b94af26",
   "metadata": {},
   "source": [
    "# so far among all the models we testes the best where random forest at 0.35 threshold"
   ]
  },
  {
   "cell_type": "code",
   "execution_count": 60,
   "id": "d44f4358-dc7d-4391-9df8-b109964158c5",
   "metadata": {},
   "outputs": [
    {
     "name": "stdout",
     "output_type": "stream",
     "text": [
      "Requirement already satisfied: tensorflow in c:\\users\\dell\\anaconda3\\lib\\site-packages (2.13.0)\n",
      "Requirement already satisfied: tensorflow-intel==2.13.0 in c:\\users\\dell\\anaconda3\\lib\\site-packages (from tensorflow) (2.13.0)\n",
      "Requirement already satisfied: absl-py>=1.0.0 in c:\\users\\dell\\anaconda3\\lib\\site-packages (from tensorflow-intel==2.13.0->tensorflow) (2.1.0)\n",
      "Requirement already satisfied: astunparse>=1.6.0 in c:\\users\\dell\\anaconda3\\lib\\site-packages (from tensorflow-intel==2.13.0->tensorflow) (1.6.3)\n",
      "Requirement already satisfied: flatbuffers>=23.1.21 in c:\\users\\dell\\anaconda3\\lib\\site-packages (from tensorflow-intel==2.13.0->tensorflow) (24.3.25)\n",
      "Requirement already satisfied: gast<=0.4.0,>=0.2.1 in c:\\users\\dell\\anaconda3\\lib\\site-packages (from tensorflow-intel==2.13.0->tensorflow) (0.4.0)\n",
      "Requirement already satisfied: google-pasta>=0.1.1 in c:\\users\\dell\\anaconda3\\lib\\site-packages (from tensorflow-intel==2.13.0->tensorflow) (0.2.0)\n",
      "Requirement already satisfied: h5py>=2.9.0 in c:\\users\\dell\\anaconda3\\lib\\site-packages (from tensorflow-intel==2.13.0->tensorflow) (3.11.0)\n",
      "Requirement already satisfied: libclang>=13.0.0 in c:\\users\\dell\\anaconda3\\lib\\site-packages (from tensorflow-intel==2.13.0->tensorflow) (18.1.1)\n",
      "Collecting numpy<=1.24.3,>=1.22 (from tensorflow-intel==2.13.0->tensorflow)\n",
      "  Using cached numpy-1.24.3-cp311-cp311-win_amd64.whl.metadata (5.6 kB)\n",
      "Requirement already satisfied: opt-einsum>=2.3.2 in c:\\users\\dell\\anaconda3\\lib\\site-packages (from tensorflow-intel==2.13.0->tensorflow) (3.3.0)\n",
      "Requirement already satisfied: packaging in c:\\users\\dell\\anaconda3\\lib\\site-packages (from tensorflow-intel==2.13.0->tensorflow) (24.2)\n",
      "Collecting protobuf!=4.21.0,!=4.21.1,!=4.21.2,!=4.21.3,!=4.21.4,!=4.21.5,<5.0.0dev,>=3.20.3 (from tensorflow-intel==2.13.0->tensorflow)\n",
      "  Downloading protobuf-4.25.6-cp310-abi3-win_amd64.whl.metadata (541 bytes)\n",
      "Requirement already satisfied: setuptools in c:\\users\\dell\\anaconda3\\lib\\site-packages (from tensorflow-intel==2.13.0->tensorflow) (68.2.2)\n",
      "Requirement already satisfied: six>=1.12.0 in c:\\users\\dell\\anaconda3\\lib\\site-packages (from tensorflow-intel==2.13.0->tensorflow) (1.17.0)\n",
      "Requirement already satisfied: termcolor>=1.1.0 in c:\\users\\dell\\anaconda3\\lib\\site-packages (from tensorflow-intel==2.13.0->tensorflow) (2.4.0)\n",
      "Collecting typing-extensions<4.6.0,>=3.6.6 (from tensorflow-intel==2.13.0->tensorflow)\n",
      "  Using cached typing_extensions-4.5.0-py3-none-any.whl.metadata (8.5 kB)\n",
      "Requirement already satisfied: wrapt>=1.11.0 in c:\\users\\dell\\anaconda3\\lib\\site-packages (from tensorflow-intel==2.13.0->tensorflow) (1.14.1)\n",
      "Requirement already satisfied: grpcio<2.0,>=1.24.3 in c:\\users\\dell\\anaconda3\\lib\\site-packages (from tensorflow-intel==2.13.0->tensorflow) (1.64.1)\n",
      "Requirement already satisfied: tensorboard<2.14,>=2.13 in c:\\users\\dell\\anaconda3\\lib\\site-packages (from tensorflow-intel==2.13.0->tensorflow) (2.13.0)\n",
      "Requirement already satisfied: tensorflow-estimator<2.14,>=2.13.0 in c:\\users\\dell\\anaconda3\\lib\\site-packages (from tensorflow-intel==2.13.0->tensorflow) (2.13.0)\n",
      "Requirement already satisfied: keras<2.14,>=2.13.1 in c:\\users\\dell\\anaconda3\\lib\\site-packages (from tensorflow-intel==2.13.0->tensorflow) (2.13.1)\n",
      "Requirement already satisfied: tensorflow-io-gcs-filesystem>=0.23.1 in c:\\users\\dell\\anaconda3\\lib\\site-packages (from tensorflow-intel==2.13.0->tensorflow) (0.31.0)\n",
      "Requirement already satisfied: wheel<1.0,>=0.23.0 in c:\\users\\dell\\anaconda3\\lib\\site-packages (from astunparse>=1.6.0->tensorflow-intel==2.13.0->tensorflow) (0.41.2)\n",
      "Requirement already satisfied: google-auth<3,>=1.6.3 in c:\\users\\dell\\anaconda3\\lib\\site-packages (from tensorboard<2.14,>=2.13->tensorflow-intel==2.13.0->tensorflow) (2.32.0)\n",
      "Requirement already satisfied: google-auth-oauthlib<1.1,>=0.5 in c:\\users\\dell\\anaconda3\\lib\\site-packages (from tensorboard<2.14,>=2.13->tensorflow-intel==2.13.0->tensorflow) (1.0.0)\n",
      "Requirement already satisfied: markdown>=2.6.8 in c:\\users\\dell\\anaconda3\\lib\\site-packages (from tensorboard<2.14,>=2.13->tensorflow-intel==2.13.0->tensorflow) (3.4.1)\n",
      "Requirement already satisfied: requests<3,>=2.21.0 in c:\\users\\dell\\anaconda3\\lib\\site-packages (from tensorboard<2.14,>=2.13->tensorflow-intel==2.13.0->tensorflow) (2.32.3)\n",
      "Requirement already satisfied: tensorboard-data-server<0.8.0,>=0.7.0 in c:\\users\\dell\\anaconda3\\lib\\site-packages (from tensorboard<2.14,>=2.13->tensorflow-intel==2.13.0->tensorflow) (0.7.2)\n",
      "Requirement already satisfied: werkzeug>=1.0.1 in c:\\users\\dell\\anaconda3\\lib\\site-packages (from tensorboard<2.14,>=2.13->tensorflow-intel==2.13.0->tensorflow) (2.2.3)\n",
      "Requirement already satisfied: cachetools<6.0,>=2.0.0 in c:\\users\\dell\\anaconda3\\lib\\site-packages (from google-auth<3,>=1.6.3->tensorboard<2.14,>=2.13->tensorflow-intel==2.13.0->tensorflow) (5.5.1)\n",
      "Requirement already satisfied: pyasn1-modules>=0.2.1 in c:\\users\\dell\\anaconda3\\lib\\site-packages (from google-auth<3,>=1.6.3->tensorboard<2.14,>=2.13->tensorflow-intel==2.13.0->tensorflow) (0.2.8)\n",
      "Requirement already satisfied: rsa<5,>=3.1.4 in c:\\users\\dell\\anaconda3\\lib\\site-packages (from google-auth<3,>=1.6.3->tensorboard<2.14,>=2.13->tensorflow-intel==2.13.0->tensorflow) (4.9)\n",
      "Requirement already satisfied: requests-oauthlib>=0.7.0 in c:\\users\\dell\\anaconda3\\lib\\site-packages (from google-auth-oauthlib<1.1,>=0.5->tensorboard<2.14,>=2.13->tensorflow-intel==2.13.0->tensorflow) (2.0.0)\n",
      "Requirement already satisfied: charset-normalizer<4,>=2 in c:\\users\\dell\\anaconda3\\lib\\site-packages (from requests<3,>=2.21.0->tensorboard<2.14,>=2.13->tensorflow-intel==2.13.0->tensorflow) (3.4.1)\n",
      "Requirement already satisfied: idna<4,>=2.5 in c:\\users\\dell\\anaconda3\\lib\\site-packages (from requests<3,>=2.21.0->tensorboard<2.14,>=2.13->tensorflow-intel==2.13.0->tensorflow) (3.10)\n",
      "Requirement already satisfied: urllib3<3,>=1.21.1 in c:\\users\\dell\\anaconda3\\lib\\site-packages (from requests<3,>=2.21.0->tensorboard<2.14,>=2.13->tensorflow-intel==2.13.0->tensorflow) (2.3.0)\n",
      "Requirement already satisfied: certifi>=2017.4.17 in c:\\users\\dell\\anaconda3\\lib\\site-packages (from requests<3,>=2.21.0->tensorboard<2.14,>=2.13->tensorflow-intel==2.13.0->tensorflow) (2025.1.31)\n",
      "Requirement already satisfied: MarkupSafe>=2.1.1 in c:\\users\\dell\\anaconda3\\lib\\site-packages (from werkzeug>=1.0.1->tensorboard<2.14,>=2.13->tensorflow-intel==2.13.0->tensorflow) (3.0.2)\n",
      "Requirement already satisfied: pyasn1<0.5.0,>=0.4.6 in c:\\users\\dell\\anaconda3\\lib\\site-packages (from pyasn1-modules>=0.2.1->google-auth<3,>=1.6.3->tensorboard<2.14,>=2.13->tensorflow-intel==2.13.0->tensorflow) (0.4.8)\n",
      "Requirement already satisfied: oauthlib>=3.0.0 in c:\\users\\dell\\anaconda3\\lib\\site-packages (from requests-oauthlib>=0.7.0->google-auth-oauthlib<1.1,>=0.5->tensorboard<2.14,>=2.13->tensorflow-intel==2.13.0->tensorflow) (3.2.2)\n",
      "Using cached numpy-1.24.3-cp311-cp311-win_amd64.whl (14.8 MB)\n",
      "Downloading protobuf-4.25.6-cp310-abi3-win_amd64.whl (413 kB)\n",
      "   ---------------------------------------- 0.0/413.4 kB ? eta -:--:--\n",
      "    --------------------------------------- 10.2/413.4 kB ? eta -:--:--\n",
      "    --------------------------------------- 10.2/413.4 kB ? eta -:--:--\n",
      "   -- ------------------------------------ 30.7/413.4 kB 262.6 kB/s eta 0:00:02\n",
      "   ----- --------------------------------- 61.4/413.4 kB 409.6 kB/s eta 0:00:01\n",
      "   --------- ---------------------------- 102.4/413.4 kB 587.0 kB/s eta 0:00:01\n",
      "   --------------- ---------------------- 174.1/413.4 kB 871.5 kB/s eta 0:00:01\n",
      "   ---------------------- ----------------- 235.5/413.4 kB 1.0 MB/s eta 0:00:01\n",
      "   ----------------------------- ---------- 307.2/413.4 kB 1.1 MB/s eta 0:00:01\n",
      "   ------------------------------------- -- 389.1/413.4 kB 1.3 MB/s eta 0:00:01\n",
      "   ---------------------------------------- 413.4/413.4 kB 1.2 MB/s eta 0:00:00\n",
      "Using cached typing_extensions-4.5.0-py3-none-any.whl (27 kB)\n",
      "Installing collected packages: typing-extensions, protobuf, numpy\n",
      "  Attempting uninstall: typing-extensions\n",
      "    Found existing installation: typing_extensions 4.12.2\n",
      "    Uninstalling typing_extensions-4.12.2:\n",
      "      Successfully uninstalled typing_extensions-4.12.2\n",
      "  Attempting uninstall: protobuf\n",
      "    Found existing installation: protobuf 5.29.3\n",
      "    Uninstalling protobuf-5.29.3:\n",
      "      Successfully uninstalled protobuf-5.29.3\n",
      "  Attempting uninstall: numpy\n",
      "    Found existing installation: numpy 1.26.4\n",
      "    Uninstalling numpy-1.26.4:\n",
      "      Successfully uninstalled numpy-1.26.4\n",
      "Successfully installed numpy-1.24.3 protobuf-4.25.6 typing-extensions-4.5.0\n",
      "Note: you may need to restart the kernel to use updated packages.\n"
     ]
    },
    {
     "name": "stderr",
     "output_type": "stream",
     "text": [
      "  WARNING: Failed to remove contents in a temporary directory 'C:\\Users\\DELL\\AppData\\Local\\Temp\\pip-uninstall-x4rdy29i'.\n",
      "  You can safely remove it manually.\n",
      "  WARNING: Failed to remove contents in a temporary directory 'C:\\Users\\DELL\\anaconda3\\Lib\\site-packages\\~~mpy.libs'.\n",
      "  You can safely remove it manually.\n",
      "ERROR: pip's dependency resolver does not currently take into account all the packages that are installed. This behaviour is the source of the following dependency conflicts.\n",
      "altair 5.5.0 requires typing-extensions>=4.10.0; python_version < \"3.14\", but you have typing-extensions 4.5.0 which is incompatible.\n",
      "pyfume 0.3.4 requires numpy==1.24.4, but you have numpy 1.24.3 which is incompatible.\n",
      "pyfume 0.3.4 requires pandas==1.5.3, but you have pandas 2.2.3 which is incompatible.\n",
      "pyfume 0.3.4 requires scipy==1.10.1, but you have scipy 1.15.2 which is incompatible.\n",
      "sqlalchemy 2.0.25 requires typing-extensions>=4.6.0, but you have typing-extensions 4.5.0 which is incompatible.\n"
     ]
    }
   ],
   "source": [
    "pip install tensorflow"
   ]
  },
  {
   "cell_type": "code",
   "execution_count": 62,
   "id": "9b9297c9-ae8e-43aa-a861-32fdb8ca0533",
   "metadata": {},
   "outputs": [
    {
     "name": "stdout",
     "output_type": "stream",
     "text": [
      "✅ Data is Ready for Deep Learning!\n"
     ]
    }
   ],
   "source": [
    "from sklearn.preprocessing import StandardScaler\n",
    "from sklearn.model_selection import train_test_split\n",
    "\n",
    "df_train = pd.read_csv(train_file)  # Update path if needed\n",
    "\n",
    "df_train[\"transaction_hour\"] = pd.to_datetime(df_train[\"unix_time\"], unit=\"s\").dt.hour\n",
    "\n",
    "def haversine(row):\n",
    "    R = 6371  # Earth radius in km\n",
    "    lat1, lon1, lat2, lon2 = map(np.radians, [row[\"lat\"], row[\"long\"], row[\"merch_lat\"], row[\"merch_long\"]])\n",
    "    dlat, dlon = lat2 - lat1, lon2 - lon1\n",
    "    a = np.sin(dlat / 2)**2 + np.cos(lat1) * np.cos(lat2) * np.sin(dlon / 2)**2\n",
    "    return R * (2 * np.arcsin(np.sqrt(a)))\n",
    "\n",
    "df_train[\"user_merchant_distance\"] = df_train.apply(haversine, axis=1)\n",
    "\n",
    "high_amt_threshold = df_train[\"amt\"].quantile(0.95)\n",
    "df_train[\"high_transaction\"] = df_train[\"amt\"].apply(lambda x: 1 if x > high_amt_threshold else 0)\n",
    "\n",
    "selected_features = [\"amt\", \"user_merchant_distance\", \"transaction_hour\", \"high_transaction\"]\n",
    "X = df_train[selected_features]\n",
    "y = df_train[\"is_fraud\"]\n",
    "\n",
    "scaler = StandardScaler()\n",
    "X_scaled = scaler.fit_transform(X)\n",
    "\n",
    "X_train, X_val, y_train, y_val = train_test_split(X_scaled, y, test_size=0.2, stratify=y, random_state=42)\n",
    "\n",
    "print(\"✅ Data is Ready for Deep Learning!\")"
   ]
  },
  {
   "cell_type": "code",
   "execution_count": 63,
   "id": "3007040d-ef7e-4b6f-bebc-84063be593a8",
   "metadata": {},
   "outputs": [
    {
     "name": "stdout",
     "output_type": "stream",
     "text": [
      "✅ Neural Network Model Compiled!\n"
     ]
    }
   ],
   "source": [
    "import tensorflow as tf\n",
    "from tensorflow.keras.models import Sequential\n",
    "from tensorflow.keras.layers import Dense, Dropout\n",
    "\n",
    "dnn_model = Sequential([\n",
    "    Dense(128, activation='relu', input_shape=(X_train.shape[1],)), \n",
    "    Dropout(0.3),  \n",
    "    Dense(64, activation='relu'), \n",
    "    Dropout(0.2),\n",
    "    Dense(32, activation='relu'),  \n",
    "    Dense(1, activation='sigmoid')  \n",
    "])\n",
    "\n",
    "dnn_model.compile(optimizer='adam', loss='binary_crossentropy', metrics=['accuracy'])\n",
    "\n",
    "print(\"✅ Neural Network Model Compiled!\")"
   ]
  },
  {
   "cell_type": "code",
   "execution_count": 64,
   "id": "d115cf88-62b4-42fa-bfcb-760a8804f9e4",
   "metadata": {},
   "outputs": [
    {
     "name": "stdout",
     "output_type": "stream",
     "text": [
      "Epoch 1/20\n",
      "32417/32417 [==============================] - 60s 2ms/step - loss: 0.0204 - accuracy: 0.9951 - val_loss: 0.0178 - val_accuracy: 0.9954\n",
      "Epoch 2/20\n",
      "32417/32417 [==============================] - 57s 2ms/step - loss: 0.0179 - accuracy: 0.9954 - val_loss: 0.0178 - val_accuracy: 0.9953\n",
      "Epoch 3/20\n",
      "32417/32417 [==============================] - 58s 2ms/step - loss: 0.0173 - accuracy: 0.9953 - val_loss: 0.0168 - val_accuracy: 0.9953\n",
      "Epoch 4/20\n",
      "32417/32417 [==============================] - 58s 2ms/step - loss: 0.0170 - accuracy: 0.9954 - val_loss: 0.0163 - val_accuracy: 0.9955\n",
      "Epoch 5/20\n",
      "32417/32417 [==============================] - 58s 2ms/step - loss: 0.0169 - accuracy: 0.9954 - val_loss: 0.0162 - val_accuracy: 0.9955\n",
      "Epoch 6/20\n",
      "32417/32417 [==============================] - 63s 2ms/step - loss: 0.0168 - accuracy: 0.9955 - val_loss: 0.0154 - val_accuracy: 0.9955\n",
      "Epoch 7/20\n",
      "32417/32417 [==============================] - 62s 2ms/step - loss: 0.0166 - accuracy: 0.9955 - val_loss: 0.0156 - val_accuracy: 0.9955\n",
      "Epoch 8/20\n",
      "32417/32417 [==============================] - 59s 2ms/step - loss: 0.0166 - accuracy: 0.9955 - val_loss: 0.0152 - val_accuracy: 0.9956\n",
      "Epoch 9/20\n",
      "32417/32417 [==============================] - 60s 2ms/step - loss: 0.0165 - accuracy: 0.9955 - val_loss: 0.0156 - val_accuracy: 0.9955\n",
      "Epoch 10/20\n",
      "32417/32417 [==============================] - 59s 2ms/step - loss: 0.0164 - accuracy: 0.9955 - val_loss: 0.0152 - val_accuracy: 0.9956\n",
      "Epoch 11/20\n",
      "32417/32417 [==============================] - 64s 2ms/step - loss: 0.0164 - accuracy: 0.9955 - val_loss: 0.0154 - val_accuracy: 0.9955\n",
      "Epoch 12/20\n",
      "32417/32417 [==============================] - 65s 2ms/step - loss: 0.0164 - accuracy: 0.9956 - val_loss: 0.0154 - val_accuracy: 0.9955\n",
      "Epoch 13/20\n",
      "32417/32417 [==============================] - 65s 2ms/step - loss: 0.0164 - accuracy: 0.9955 - val_loss: 0.0152 - val_accuracy: 0.9955\n",
      "Epoch 14/20\n",
      "32417/32417 [==============================] - 65s 2ms/step - loss: 0.0164 - accuracy: 0.9955 - val_loss: 0.0157 - val_accuracy: 0.9955\n",
      "Epoch 15/20\n",
      "32417/32417 [==============================] - 57s 2ms/step - loss: 0.0164 - accuracy: 0.9955 - val_loss: 0.0152 - val_accuracy: 0.9957\n",
      "Epoch 16/20\n",
      "32417/32417 [==============================] - 57s 2ms/step - loss: 0.0164 - accuracy: 0.9956 - val_loss: 0.0155 - val_accuracy: 0.9955\n",
      "Epoch 17/20\n",
      "32417/32417 [==============================] - 60s 2ms/step - loss: 0.0164 - accuracy: 0.9956 - val_loss: 0.0148 - val_accuracy: 0.9958\n",
      "Epoch 18/20\n",
      "32417/32417 [==============================] - 60s 2ms/step - loss: 0.0163 - accuracy: 0.9956 - val_loss: 0.0153 - val_accuracy: 0.9955\n",
      "Epoch 19/20\n",
      "32417/32417 [==============================] - 60s 2ms/step - loss: 0.0163 - accuracy: 0.9956 - val_loss: 0.0152 - val_accuracy: 0.9956\n",
      "Epoch 20/20\n",
      "32417/32417 [==============================] - 61s 2ms/step - loss: 0.0162 - accuracy: 0.9956 - val_loss: 0.0158 - val_accuracy: 0.9956\n",
      "8105/8105 [==============================] - 9s 1ms/step - loss: 0.0158 - accuracy: 0.9956\n",
      "✅ Neural Network Validation Accuracy: 0.9956\n"
     ]
    }
   ],
   "source": [
    "history = dnn_model.fit(X_train, y_train, epochs=20, batch_size=32, validation_data=(X_val, y_val), verbose=1)\n",
    "\n",
    "val_loss, val_accuracy = dnn_model.evaluate(X_val, y_val, verbose=1)\n",
    "\n",
    "print(f\"✅ Neural Network Validation Accuracy: {val_accuracy:.4f}\")"
   ]
  },
  {
   "cell_type": "code",
   "execution_count": 65,
   "id": "9842df51-e6ca-4432-af49-38519cffb57a",
   "metadata": {},
   "outputs": [
    {
     "name": "stdout",
     "output_type": "stream",
     "text": [
      "8105/8105 [==============================] - 7s 806us/step\n",
      "🔹 Neural Network Fraud Detection Performance:\n",
      "              precision    recall  f1-score   support\n",
      "\n",
      "           0       1.00      1.00      1.00    257834\n",
      "           1       0.74      0.37      0.49      1501\n",
      "\n",
      "    accuracy                           1.00    259335\n",
      "   macro avg       0.87      0.68      0.74    259335\n",
      "weighted avg       0.99      1.00      0.99    259335\n",
      "\n"
     ]
    }
   ],
   "source": [
    "from sklearn.metrics import classification_report\n",
    "\n",
    "y_pred_probs = dnn_model.predict(X_val)  \n",
    "y_pred = [1 if prob > 0.5 else 0 for prob in y_pred_probs]  \n",
    "\n",
    "print(\"🔹 Neural Network Fraud Detection Performance:\")\n",
    "print(classification_report(y_val, y_pred))"
   ]
  },
  {
   "cell_type": "code",
   "execution_count": 66,
   "id": "25428996-95e1-42d4-9f63-06f2a024573c",
   "metadata": {},
   "outputs": [
    {
     "name": "stdout",
     "output_type": "stream",
     "text": [
      "8105/8105 [==============================] - 7s 798us/step\n",
      "🔹 Neural Network Performance (Threshold = 0.3):\n",
      "              precision    recall  f1-score   support\n",
      "\n",
      "           0       1.00      1.00      1.00    257834\n",
      "           1       0.63      0.49      0.55      1501\n",
      "\n",
      "    accuracy                           1.00    259335\n",
      "   macro avg       0.81      0.75      0.78    259335\n",
      "weighted avg       0.99      1.00      1.00    259335\n",
      "\n"
     ]
    }
   ],
   "source": [
    "y_pred_probs = dnn_model.predict(X_val) \n",
    "y_pred_adjusted = [1 if prob > 0.3 else 0 for prob in y_pred_probs]  \n",
    "\n",
    "from sklearn.metrics import classification_report\n",
    "print(\"🔹 Neural Network Performance (Threshold = 0.3):\")\n",
    "print(classification_report(y_val, y_pred_adjusted))"
   ]
  },
  {
   "cell_type": "code",
   "execution_count": 67,
   "id": "86a32c7e-0531-4481-a2af-adae51b234f8",
   "metadata": {},
   "outputs": [
    {
     "name": "stdout",
     "output_type": "stream",
     "text": [
      "Epoch 1/20\n",
      "32417/32417 [==============================] - 90s 3ms/step - loss: 0.0206 - accuracy: 0.9951 - val_loss: 0.0178 - val_accuracy: 0.9955\n",
      "Epoch 2/20\n",
      "32417/32417 [==============================] - 87s 3ms/step - loss: 0.0184 - accuracy: 0.9954 - val_loss: 0.0169 - val_accuracy: 0.9956\n",
      "Epoch 3/20\n",
      "32417/32417 [==============================] - 82s 3ms/step - loss: 0.0179 - accuracy: 0.9954 - val_loss: 0.0170 - val_accuracy: 0.9949\n",
      "Epoch 4/20\n",
      "32417/32417 [==============================] - 83s 3ms/step - loss: 0.0177 - accuracy: 0.9955 - val_loss: 0.0166 - val_accuracy: 0.9956\n",
      "Epoch 5/20\n",
      "32417/32417 [==============================] - 84s 3ms/step - loss: 0.0174 - accuracy: 0.9955 - val_loss: 0.0160 - val_accuracy: 0.9956\n",
      "Epoch 6/20\n",
      "32417/32417 [==============================] - 84s 3ms/step - loss: 0.0173 - accuracy: 0.9954 - val_loss: 0.0160 - val_accuracy: 0.9956\n",
      "Epoch 7/20\n",
      "32417/32417 [==============================] - 85s 3ms/step - loss: 0.0171 - accuracy: 0.9955 - val_loss: 0.0162 - val_accuracy: 0.9956\n",
      "Epoch 8/20\n",
      "32417/32417 [==============================] - 85s 3ms/step - loss: 0.0172 - accuracy: 0.9955 - val_loss: 0.0157 - val_accuracy: 0.9956\n",
      "Epoch 9/20\n",
      "32417/32417 [==============================] - 86s 3ms/step - loss: 0.0169 - accuracy: 0.9955 - val_loss: 0.0152 - val_accuracy: 0.9956\n",
      "Epoch 10/20\n",
      "32417/32417 [==============================] - 85s 3ms/step - loss: 0.0168 - accuracy: 0.9955 - val_loss: 0.0160 - val_accuracy: 0.9954\n",
      "Epoch 11/20\n",
      "32417/32417 [==============================] - 87s 3ms/step - loss: 0.0169 - accuracy: 0.9955 - val_loss: 0.0153 - val_accuracy: 0.9957\n",
      "Epoch 12/20\n",
      "32417/32417 [==============================] - 95s 3ms/step - loss: 0.0168 - accuracy: 0.9955 - val_loss: 0.0154 - val_accuracy: 0.9956\n",
      "Epoch 13/20\n",
      "32417/32417 [==============================] - 85s 3ms/step - loss: 0.0170 - accuracy: 0.9955 - val_loss: 0.0155 - val_accuracy: 0.9956\n",
      "Epoch 14/20\n",
      "32417/32417 [==============================] - 86s 3ms/step - loss: 0.0168 - accuracy: 0.9955 - val_loss: 0.0155 - val_accuracy: 0.9957\n",
      "Epoch 15/20\n",
      "32417/32417 [==============================] - 86s 3ms/step - loss: 0.0173 - accuracy: 0.9955 - val_loss: 0.0156 - val_accuracy: 0.9954\n",
      "Epoch 16/20\n",
      "32417/32417 [==============================] - 86s 3ms/step - loss: 0.0172 - accuracy: 0.9955 - val_loss: 0.0151 - val_accuracy: 0.9958\n",
      "Epoch 17/20\n",
      "32417/32417 [==============================] - 87s 3ms/step - loss: 0.0169 - accuracy: 0.9955 - val_loss: 0.0155 - val_accuracy: 0.9956\n",
      "Epoch 18/20\n",
      "32417/32417 [==============================] - 87s 3ms/step - loss: 0.0168 - accuracy: 0.9955 - val_loss: 0.0150 - val_accuracy: 0.9958\n",
      "Epoch 19/20\n",
      "32417/32417 [==============================] - 88s 3ms/step - loss: 0.0169 - accuracy: 0.9955 - val_loss: 0.0150 - val_accuracy: 0.9958\n",
      "Epoch 20/20\n",
      "32417/32417 [==============================] - 92s 3ms/step - loss: 0.0169 - accuracy: 0.9955 - val_loss: 0.0155 - val_accuracy: 0.9956\n",
      "8105/8105 [==============================] - 16s 2ms/step - loss: 0.0155 - accuracy: 0.9956\n",
      "✅ Improved Neural Network Validation Accuracy: 0.9956\n"
     ]
    }
   ],
   "source": [
    "from tensorflow.keras.models import Sequential\n",
    "from tensorflow.keras.layers import Dense, Dropout\n",
    "\n",
    "# 🚀 Improved Neural Network Model\n",
    "dnn_model = Sequential([\n",
    "    Dense(256, activation='relu', input_shape=(X_train.shape[1],)),  \n",
    "    Dropout(0.3),\n",
    "    Dense(128, activation='relu'),\n",
    "    Dropout(0.3),\n",
    "    Dense(64, activation='relu'),\n",
    "    Dense(32, activation='relu'),\n",
    "    Dense(1, activation='sigmoid')  \n",
    "])\n",
    "\n",
    "\n",
    "dnn_model.compile(optimizer='adam', loss='binary_crossentropy', metrics=['accuracy'])\n",
    "\n",
    "\n",
    "history = dnn_model.fit(X_train, y_train, epochs=20, batch_size=32, validation_data=(X_val, y_val), verbose=1)\n",
    "\n",
    "\n",
    "val_loss, val_accuracy = dnn_model.evaluate(X_val, y_val, verbose=1)\n",
    "print(f\"✅ Improved Neural Network Validation Accuracy: {val_accuracy:.4f}\")"
   ]
  },
  {
   "cell_type": "code",
   "execution_count": 68,
   "id": "302301cd-a0eb-4fea-b069-d7a472c7bd50",
   "metadata": {},
   "outputs": [
    {
     "name": "stdout",
     "output_type": "stream",
     "text": [
      "8105/8105 [==============================] - 9s 1ms/step\n",
      "🔹 Final Neural Network Performance (Threshold = 0.3):\n",
      "              precision    recall  f1-score   support\n",
      "\n",
      "           0       1.00      1.00      1.00    257834\n",
      "           1       0.59      0.55      0.57      1501\n",
      "\n",
      "    accuracy                           1.00    259335\n",
      "   macro avg       0.79      0.78      0.78    259335\n",
      "weighted avg       1.00      1.00      1.00    259335\n",
      "\n"
     ]
    }
   ],
   "source": [
    "y_pred_probs = dnn_model.predict(X_val)\n",
    "\n",
    "final_threshold = 0.3\n",
    "y_pred_adjusted = [1 if prob > final_threshold else 0 for prob in y_pred_probs]\n",
    "\n",
    "print(\"🔹 Final Neural Network Performance (Threshold = 0.3):\")\n",
    "print(classification_report(y_val, y_pred_adjusted))"
   ]
  },
  {
   "cell_type": "code",
   "execution_count": 70,
   "id": "35ba262a-41b6-42c0-bd11-e151ad695f55",
   "metadata": {},
   "outputs": [
    {
     "name": "stdout",
     "output_type": "stream",
     "text": [
      "✅ Data Reshaped for CNN (Format: Samples, Features, Channels)\n"
     ]
    }
   ],
   "source": [
    "import numpy as np\n",
    "import pandas as pd\n",
    "from sklearn.preprocessing import StandardScaler\n",
    "from sklearn.model_selection import train_test_split\n",
    "\n",
    "df_train = pd.read_csv(train_file)\n",
    "\n",
    "df_train[\"transaction_hour\"] = pd.to_datetime(df_train[\"unix_time\"], unit=\"s\").dt.hour\n",
    "\n",
    "def haversine(row):\n",
    "    R = 6371  # Earth radius in km\n",
    "    lat1, lon1, lat2, lon2 = map(np.radians, [row[\"lat\"], row[\"long\"], row[\"merch_lat\"], row[\"merch_long\"]])\n",
    "    dlat, dlon = lat2 - lat1, lon2 - lon1\n",
    "    a = np.sin(dlat / 2)**2 + np.cos(lat1) * np.cos(lat2) * np.sin(dlon / 2)**2\n",
    "    return R * (2 * np.arcsin(np.sqrt(a)))\n",
    "\n",
    "df_train[\"user_merchant_distance\"] = df_train.apply(haversine, axis=1)\n",
    "\n",
    "high_amt_threshold = df_train[\"amt\"].quantile(0.95)\n",
    "df_train[\"high_transaction\"] = df_train[\"amt\"].apply(lambda x: 1 if x > high_amt_threshold else 0)\n",
    "\n",
    "selected_features = [\"amt\", \"user_merchant_distance\", \"transaction_hour\", \"high_transaction\"]\n",
    "X = df_train[selected_features]\n",
    "y = df_train[\"is_fraud\"]\n",
    "\n",
    "scaler = StandardScaler()\n",
    "X_scaled = scaler.fit_transform(X)\n",
    "\n",
    "X_reshaped = X_scaled.reshape(X_scaled.shape[0], X_scaled.shape[1], 1)  \n",
    "\n",
    "X_train, X_val, y_train, y_val = train_test_split(X_reshaped, y, test_size=0.2, stratify=y, random_state=42)\n",
    "\n",
    "print(\"✅ Data Reshaped for CNN (Format: Samples, Features, Channels)\")"
   ]
  },
  {
   "cell_type": "code",
   "execution_count": 71,
   "id": "5cc1843c-a496-45ba-9336-bb0cda1d69a7",
   "metadata": {},
   "outputs": [
    {
     "name": "stdout",
     "output_type": "stream",
     "text": [
      "✅ CNN Model Compiled!\n"
     ]
    }
   ],
   "source": [
    "from tensorflow.keras.models import Sequential\n",
    "from tensorflow.keras.layers import Conv1D, MaxPooling1D, Flatten, Dense, Dropout\n",
    "\n",
    "cnn_model = Sequential([\n",
    "    Conv1D(filters=64, kernel_size=2, activation='relu', input_shape=(X_train.shape[1], 1)),  \n",
    "    MaxPooling1D(pool_size=2),  \n",
    "    Flatten(),\n",
    "    Dense(128, activation='relu'),  \n",
    "    Dropout(0.3),\n",
    "    Dense(64, activation='relu'),\n",
    "    Dense(1, activation='sigmoid')  \n",
    "])\n",
    "\n",
    "cnn_model.compile(optimizer='adam', loss='binary_crossentropy', metrics=['accuracy'])\n",
    "\n",
    "print(\"✅ CNN Model Compiled!\")\n"
   ]
  },
  {
   "cell_type": "code",
   "execution_count": 72,
   "id": "85352c08-d7d7-41e8-854a-19d85185bd0a",
   "metadata": {},
   "outputs": [
    {
     "name": "stdout",
     "output_type": "stream",
     "text": [
      "Epoch 1/20\n",
      "32417/32417 [==============================] - 68s 2ms/step - loss: 0.0219 - accuracy: 0.9950 - val_loss: 0.0185 - val_accuracy: 0.9954\n",
      "Epoch 2/20\n",
      "32417/32417 [==============================] - 58s 2ms/step - loss: 0.0190 - accuracy: 0.9954 - val_loss: 0.0176 - val_accuracy: 0.9955\n",
      "Epoch 3/20\n",
      "32417/32417 [==============================] - 56s 2ms/step - loss: 0.0186 - accuracy: 0.9954 - val_loss: 0.0173 - val_accuracy: 0.9955\n",
      "Epoch 4/20\n",
      "32417/32417 [==============================] - 58s 2ms/step - loss: 0.0184 - accuracy: 0.9955 - val_loss: 0.0174 - val_accuracy: 0.9955\n",
      "Epoch 5/20\n",
      "32417/32417 [==============================] - 56s 2ms/step - loss: 0.0183 - accuracy: 0.9955 - val_loss: 0.0176 - val_accuracy: 0.9954\n",
      "Epoch 6/20\n",
      "32417/32417 [==============================] - 58s 2ms/step - loss: 0.0182 - accuracy: 0.9955 - val_loss: 0.0176 - val_accuracy: 0.9956\n",
      "Epoch 7/20\n",
      "32417/32417 [==============================] - 60s 2ms/step - loss: 0.0181 - accuracy: 0.9955 - val_loss: 0.0184 - val_accuracy: 0.9952\n",
      "Epoch 8/20\n",
      "32417/32417 [==============================] - 60s 2ms/step - loss: 0.0180 - accuracy: 0.9955 - val_loss: 0.0171 - val_accuracy: 0.9957\n",
      "Epoch 9/20\n",
      "32417/32417 [==============================] - 60s 2ms/step - loss: 0.0181 - accuracy: 0.9955 - val_loss: 0.0173 - val_accuracy: 0.9956\n",
      "Epoch 10/20\n",
      "32417/32417 [==============================] - 61s 2ms/step - loss: 0.0180 - accuracy: 0.9956 - val_loss: 0.0172 - val_accuracy: 0.9955\n",
      "Epoch 11/20\n",
      "32417/32417 [==============================] - 60s 2ms/step - loss: 0.0180 - accuracy: 0.9956 - val_loss: 0.0173 - val_accuracy: 0.9956\n",
      "Epoch 12/20\n",
      "32417/32417 [==============================] - 60s 2ms/step - loss: 0.0179 - accuracy: 0.9955 - val_loss: 0.0173 - val_accuracy: 0.9956\n",
      "Epoch 13/20\n",
      "32417/32417 [==============================] - 60s 2ms/step - loss: 0.0179 - accuracy: 0.9955 - val_loss: 0.0190 - val_accuracy: 0.9951\n",
      "Epoch 14/20\n",
      "32417/32417 [==============================] - 66s 2ms/step - loss: 0.0179 - accuracy: 0.9955 - val_loss: 0.0171 - val_accuracy: 0.9956\n",
      "Epoch 15/20\n",
      "32417/32417 [==============================] - 62s 2ms/step - loss: 0.0178 - accuracy: 0.9956 - val_loss: 0.0171 - val_accuracy: 0.9957\n",
      "Epoch 16/20\n",
      "32417/32417 [==============================] - 62s 2ms/step - loss: 0.0179 - accuracy: 0.9955 - val_loss: 0.0170 - val_accuracy: 0.9956\n",
      "Epoch 17/20\n",
      "32417/32417 [==============================] - 62s 2ms/step - loss: 0.0179 - accuracy: 0.9956 - val_loss: 0.0178 - val_accuracy: 0.9952\n",
      "Epoch 18/20\n",
      "32417/32417 [==============================] - 63s 2ms/step - loss: 0.0178 - accuracy: 0.9955 - val_loss: 0.0178 - val_accuracy: 0.9950\n",
      "Epoch 19/20\n",
      "32417/32417 [==============================] - 68s 2ms/step - loss: 0.0177 - accuracy: 0.9956 - val_loss: 0.0174 - val_accuracy: 0.9956\n",
      "Epoch 20/20\n",
      "32417/32417 [==============================] - 67s 2ms/step - loss: 0.0178 - accuracy: 0.9956 - val_loss: 0.0172 - val_accuracy: 0.9956\n",
      "8105/8105 [==============================] - 8s 1ms/step - loss: 0.0172 - accuracy: 0.9956\n",
      "✅ CNN Model Validation Accuracy: 0.9956\n"
     ]
    }
   ],
   "source": [
    "history = cnn_model.fit(X_train, y_train, epochs=20, batch_size=32, validation_data=(X_val, y_val), verbose=1)\n",
    "\n",
    "val_loss, val_accuracy = cnn_model.evaluate(X_val, y_val, verbose=1)\n",
    "\n",
    "print(f\"✅ CNN Model Validation Accuracy: {val_accuracy:.4f}\")"
   ]
  },
  {
   "cell_type": "code",
   "execution_count": 73,
   "id": "ff4f9b43-63a3-435c-bfb7-15e4c036bb44",
   "metadata": {},
   "outputs": [
    {
     "name": "stdout",
     "output_type": "stream",
     "text": [
      "8105/8105 [==============================] - 7s 905us/step\n",
      "🔹 CNN Fraud Detection Performance (Threshold = 0.3):\n",
      "              precision    recall  f1-score   support\n",
      "\n",
      "           0       1.00      1.00      1.00    257834\n",
      "           1       0.69      0.46      0.55      1501\n",
      "\n",
      "    accuracy                           1.00    259335\n",
      "   macro avg       0.84      0.73      0.77    259335\n",
      "weighted avg       1.00      1.00      1.00    259335\n",
      "\n"
     ]
    }
   ],
   "source": [
    "from sklearn.metrics import classification_report\n",
    "\n",
    "y_pred_probs = cnn_model.predict(X_val)\n",
    "\n",
    "final_threshold = 0.3\n",
    "y_pred_adjusted = [1 if prob > final_threshold else 0 for prob in y_pred_probs]\n",
    "\n",
    "print(\"🔹 CNN Fraud Detection Performance (Threshold = 0.3):\")\n",
    "print(classification_report(y_val, y_pred_adjusted))"
   ]
  },
  {
   "cell_type": "markdown",
   "id": "a73f9386-8afc-4dab-a3d2-e7b0466e0de3",
   "metadata": {},
   "source": [
    "# Final Recommendation: Neural Network (DNN, Threshold 0.3)"
   ]
  },
  {
   "cell_type": "code",
   "execution_count": null,
   "id": "2b3d1969-14f7-4475-a997-8bb35c4ffd15",
   "metadata": {},
   "outputs": [],
   "source": []
  }
 ],
 "metadata": {
  "kernelspec": {
   "display_name": "Python 3 (ipykernel)",
   "language": "python",
   "name": "python3"
  },
  "language_info": {
   "codemirror_mode": {
    "name": "ipython",
    "version": 3
   },
   "file_extension": ".py",
   "mimetype": "text/x-python",
   "name": "python",
   "nbconvert_exporter": "python",
   "pygments_lexer": "ipython3",
   "version": "3.11.7"
  }
 },
 "nbformat": 4,
 "nbformat_minor": 5
}
